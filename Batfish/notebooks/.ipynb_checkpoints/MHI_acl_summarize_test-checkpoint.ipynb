{
 "cells": [
  {
   "cell_type": "markdown",
   "metadata": {},
   "source": [
    "<h2>これはASAのACLをテストするためのノートブックです。</h2>\n",
    "始めに、以下のセルでBatfishに対する質問を読み込みます。"
   ]
  },
  {
   "cell_type": "code",
   "execution_count": 1,
   "metadata": {},
   "outputs": [],
   "source": [
    "%run startup.py\n",
    "load_questions()"
   ]
  },
  {
   "cell_type": "markdown",
   "metadata": {},
   "source": [
    "次に、以下のセルでshow running-configファイルが格納されている場所を指定します。"
   ]
  },
  {
   "cell_type": "code",
   "execution_count": 10,
   "metadata": {},
   "outputs": [
    {
     "name": "stderr",
     "output_type": "stream",
     "text": [
      "Your snapshot was successfully initialized but Batfish failed to fully recognized some lines in one or more input files. Some unrecognized configuration lines are not uncommon for new networks, and it is often fine to proceed with further analysis. You can help the Batfish developers improve support for your network by running:\n",
      "\n",
      "    bf_upload_diagnostics(dry_run=False, contact_info='<optional email address>')\n",
      "\n",
      "to share private, anonymized information. For more information, see the documentation with:\n",
      "\n",
      "    help(bf_upload_diagnostics)\n"
     ]
    },
    {
     "data": {
      "text/plain": [
       "'ASA_firewall'"
      ]
     },
     "execution_count": 10,
     "metadata": {},
     "output_type": "execute_result"
    }
   ],
   "source": [
    "# Assign a friendly name to your network and snapshot\n",
    "NETWORK_NAME = \"ASA_acl\"\n",
    "SNAPSHOT_NAME = \"ASA_firewall\"\n",
    "\n",
    "SNAPSHOT_PATH = \"networks/example-filters/mycurrent\"\n",
    "\n",
    "# Now create the network and initialize the snapshot\n",
    "bf_set_network(NETWORK_NAME)\n",
    "bf_init_snapshot(SNAPSHOT_PATH, name=SNAPSHOT_NAME, overwrite=True)"
   ]
  },
  {
   "cell_type": "code",
   "execution_count": 11,
   "metadata": {},
   "outputs": [],
   "source": [
    "parse_status = bfq.fileParseStatus().answer().frame()"
   ]
  },
  {
   "cell_type": "code",
   "execution_count": 12,
   "metadata": {},
   "outputs": [
    {
     "data": {
      "text/html": [
       "<div>\n",
       "<style scoped>\n",
       "    .dataframe tbody tr th:only-of-type {\n",
       "        vertical-align: middle;\n",
       "    }\n",
       "\n",
       "    .dataframe tbody tr th {\n",
       "        vertical-align: top;\n",
       "    }\n",
       "\n",
       "    .dataframe thead th {\n",
       "        text-align: right;\n",
       "    }\n",
       "</style>\n",
       "<table border=\"1\" class=\"dataframe tex2jax_ignore\">\n",
       "  <thead>\n",
       "    <tr style=\"text-align: right;\">\n",
       "      <th></th>\n",
       "      <th>File_Name</th>\n",
       "      <th>Status</th>\n",
       "      <th>Nodes</th>\n",
       "    </tr>\n",
       "  </thead>\n",
       "  <tbody>\n",
       "    <tr>\n",
       "      <th>0</th>\n",
       "      <td>configs/ASA_after_acl_summary.cfg</td>\n",
       "      <td>PARTIALLY_UNRECOGNIZED</td>\n",
       "      <td>['asa_after_acl_summary']</td>\n",
       "    </tr>\n",
       "    <tr>\n",
       "      <th>1</th>\n",
       "      <td>configs/ASA_before_acl_summary.cfg</td>\n",
       "      <td>PARTIALLY_UNRECOGNIZED</td>\n",
       "      <td>['asa_before_acl_summary']</td>\n",
       "    </tr>\n",
       "    <tr>\n",
       "      <th>2</th>\n",
       "      <td>configs/N9kv-1.cfg</td>\n",
       "      <td>PARTIALLY_UNRECOGNIZED</td>\n",
       "      <td>['n9kv-1']</td>\n",
       "    </tr>\n",
       "    <tr>\n",
       "      <th>3</th>\n",
       "      <td>configs/N9kv-2.cfg</td>\n",
       "      <td>PARTIALLY_UNRECOGNIZED</td>\n",
       "      <td>['n9kv-2']</td>\n",
       "    </tr>\n",
       "    <tr>\n",
       "      <th>4</th>\n",
       "      <td>configs/after_summary_asa.cfg</td>\n",
       "      <td>PARTIALLY_UNRECOGNIZED</td>\n",
       "      <td>['after_summary_asa']</td>\n",
       "    </tr>\n",
       "    <tr>\n",
       "      <th>5</th>\n",
       "      <td>configs/before_summary_asa.cfg</td>\n",
       "      <td>PARTIALLY_UNRECOGNIZED</td>\n",
       "      <td>['before_summary_asa']</td>\n",
       "    </tr>\n",
       "    <tr>\n",
       "      <th>6</th>\n",
       "      <td>configs/ciscoasa.cfg</td>\n",
       "      <td>PARTIALLY_UNRECOGNIZED</td>\n",
       "      <td>['ciscoasa']</td>\n",
       "    </tr>\n",
       "  </tbody>\n",
       "</table>\n",
       "</div>"
      ],
      "text/plain": [
       "                            File_Name                  Status  \\\n",
       "0  configs/ASA_after_acl_summary.cfg   PARTIALLY_UNRECOGNIZED   \n",
       "1  configs/ASA_before_acl_summary.cfg  PARTIALLY_UNRECOGNIZED   \n",
       "2  configs/N9kv-1.cfg                  PARTIALLY_UNRECOGNIZED   \n",
       "3  configs/N9kv-2.cfg                  PARTIALLY_UNRECOGNIZED   \n",
       "4  configs/after_summary_asa.cfg       PARTIALLY_UNRECOGNIZED   \n",
       "5  configs/before_summary_asa.cfg      PARTIALLY_UNRECOGNIZED   \n",
       "6  configs/ciscoasa.cfg                PARTIALLY_UNRECOGNIZED   \n",
       "\n",
       "                        Nodes  \n",
       "0  ['asa_after_acl_summary']   \n",
       "1  ['asa_before_acl_summary']  \n",
       "2  ['n9kv-1']                  \n",
       "3  ['n9kv-2']                  \n",
       "4  ['after_summary_asa']       \n",
       "5  ['before_summary_asa']      \n",
       "6  ['ciscoasa']                "
      ]
     },
     "execution_count": 12,
     "metadata": {},
     "output_type": "execute_result"
    }
   ],
   "source": [
    "parse_status"
   ]
  },
  {
   "cell_type": "markdown",
   "metadata": {},
   "source": [
    "<h3>以下のセルでサマライズされる前のアクセスリスト のテストを行います。</h3>"
   ]
  },
  {
   "cell_type": "code",
   "execution_count": 19,
   "metadata": {},
   "outputs": [
    {
     "data": {
      "text/html": [
       "<style  type=\"text/css\" >\n",
       "    #T_pybfstylerow0_col0 {\n",
       "            text-align:  left;\n",
       "            vertical-align:  top;\n",
       "        }    #T_pybfstylerow0_col1 {\n",
       "            text-align:  left;\n",
       "            vertical-align:  top;\n",
       "        }    #T_pybfstylerow0_col2 {\n",
       "            text-align:  left;\n",
       "            vertical-align:  top;\n",
       "        }    #T_pybfstylerow0_col3 {\n",
       "            text-align:  left;\n",
       "            vertical-align:  top;\n",
       "        }    #T_pybfstylerow0_col4 {\n",
       "            text-align:  left;\n",
       "            vertical-align:  top;\n",
       "        }    #T_pybfstylerow0_col5 {\n",
       "            text-align:  left;\n",
       "            vertical-align:  top;\n",
       "        }</style><table id=\"T_pybfstyle\"  class=\"tex2jax_ignore\"><thead>    <tr>        <th class=\"blank level0\" ></th>        <th class=\"col_heading level0 col0\" >Node</th>        <th class=\"col_heading level0 col1\" >Filter_Name</th>        <th class=\"col_heading level0 col2\" >Flow</th>        <th class=\"col_heading level0 col3\" >Action</th>        <th class=\"col_heading level0 col4\" >Line_Content</th>        <th class=\"col_heading level0 col5\" >Trace</th>    </tr></thead><tbody>\n",
       "                <tr>\n",
       "                        <th id=\"T_pybfstylelevel0_row0\" class=\"row_heading level0 row0\" >0</th>\n",
       "                        <td id=\"T_pybfstylerow0_col0\" class=\"data row0 col0\" >asa_before_acl_summary</td>\n",
       "                        <td id=\"T_pybfstylerow0_col1\" class=\"data row0 col1\" >SPLIT-ACL</td>\n",
       "                        <td id=\"T_pybfstylerow0_col2\" class=\"data row0 col2\" >Start Location: asa_before_acl_summary<br>Src IP: 172.20.0.0<br>Src Port: 49152<br>Dst IP: 8.8.8.8<br>Dst Port: 80<br>IP Protocol: TCP</td>\n",
       "                        <td id=\"T_pybfstylerow0_col3\" class=\"data row0 col3\" >DENY</td>\n",
       "                        <td id=\"T_pybfstylerow0_col4\" class=\"data row0 col4\" >no-match</td>\n",
       "                        <td id=\"T_pybfstylerow0_col5\" class=\"data row0 col5\" >AclTrace(events=[AclTraceEvent(class_name=&#x27;org.batfish.datamodel.acl.DefaultDeniedByIpAccessList&#x27;, description=&quot;Flow did not match &#x27;standard ipv4 access-list&#x27; named &#x27;SPLIT-ACL&#x27;&quot;, lineDescription=None)])</td>\n",
       "            </tr>\n",
       "    </tbody></table>"
      ],
      "text/plain": [
       "                     Node Filter_Name  \\\n",
       "0  asa_before_acl_summary  SPLIT-ACL    \n",
       "\n",
       "                                                                         Flow  \\\n",
       "0  start=asa_before_acl_summary [172.20.0.0:49152->8.8.8.8:80 TCP length=512]   \n",
       "\n",
       "  Action Line_Content  \\\n",
       "0  DENY   no-match      \n",
       "\n",
       "                                                              Trace  \n",
       "0  Flow did not match 'standard ipv4 access-list' named 'SPLIT-ACL'  "
      ]
     },
     "metadata": {},
     "output_type": "display_data"
    }
   ],
   "source": [
    "ip_flow = HeaderConstraints(srcIps='172.20.0.21/24',\n",
    "                                              dstIps='8.8.8.8')\n",
    "answer = bfq.testFilters(headers=ip_flow,\n",
    "                         nodes='asa_before_acl_summary',\n",
    "                         filters=\"SPLIT-ACL\").answer() \n",
    "show(answer.frame())"
   ]
  },
  {
   "cell_type": "markdown",
   "metadata": {},
   "source": [
    "<h3>以下のセルでサマライズされた後のアクセスリスト のテストを行います。</h3>\n",
    "サマライズ前後で結果が同じかどうか比較してみてください。"
   ]
  },
  {
   "cell_type": "code",
   "execution_count": 20,
   "metadata": {},
   "outputs": [
    {
     "data": {
      "text/html": [
       "<style  type=\"text/css\" >\n",
       "    #T_pybfstylerow0_col0 {\n",
       "            text-align:  left;\n",
       "            vertical-align:  top;\n",
       "        }    #T_pybfstylerow0_col1 {\n",
       "            text-align:  left;\n",
       "            vertical-align:  top;\n",
       "        }    #T_pybfstylerow0_col2 {\n",
       "            text-align:  left;\n",
       "            vertical-align:  top;\n",
       "        }    #T_pybfstylerow0_col3 {\n",
       "            text-align:  left;\n",
       "            vertical-align:  top;\n",
       "        }    #T_pybfstylerow0_col4 {\n",
       "            text-align:  left;\n",
       "            vertical-align:  top;\n",
       "        }    #T_pybfstylerow0_col5 {\n",
       "            text-align:  left;\n",
       "            vertical-align:  top;\n",
       "        }</style><table id=\"T_pybfstyle\"  class=\"tex2jax_ignore\"><thead>    <tr>        <th class=\"blank level0\" ></th>        <th class=\"col_heading level0 col0\" >Node</th>        <th class=\"col_heading level0 col1\" >Filter_Name</th>        <th class=\"col_heading level0 col2\" >Flow</th>        <th class=\"col_heading level0 col3\" >Action</th>        <th class=\"col_heading level0 col4\" >Line_Content</th>        <th class=\"col_heading level0 col5\" >Trace</th>    </tr></thead><tbody>\n",
       "                <tr>\n",
       "                        <th id=\"T_pybfstylelevel0_row0\" class=\"row_heading level0 row0\" >0</th>\n",
       "                        <td id=\"T_pybfstylerow0_col0\" class=\"data row0 col0\" >asa_after_acl_summary</td>\n",
       "                        <td id=\"T_pybfstylerow0_col1\" class=\"data row0 col1\" >SPLIT-ACL</td>\n",
       "                        <td id=\"T_pybfstylerow0_col2\" class=\"data row0 col2\" >Start Location: asa_after_acl_summary<br>Src IP: 172.20.0.0<br>Src Port: 49152<br>Dst IP: 8.8.8.8<br>Dst Port: 80<br>IP Protocol: TCP</td>\n",
       "                        <td id=\"T_pybfstylerow0_col3\" class=\"data row0 col3\" >DENY</td>\n",
       "                        <td id=\"T_pybfstylerow0_col4\" class=\"data row0 col4\" >no-match</td>\n",
       "                        <td id=\"T_pybfstylerow0_col5\" class=\"data row0 col5\" >AclTrace(events=[AclTraceEvent(class_name=&#x27;org.batfish.datamodel.acl.DefaultDeniedByIpAccessList&#x27;, description=&quot;Flow did not match &#x27;standard ipv4 access-list&#x27; named &#x27;SPLIT-ACL&#x27;&quot;, lineDescription=None)])</td>\n",
       "            </tr>\n",
       "    </tbody></table>"
      ],
      "text/plain": [
       "                    Node Filter_Name  \\\n",
       "0  asa_after_acl_summary  SPLIT-ACL    \n",
       "\n",
       "                                                                        Flow  \\\n",
       "0  start=asa_after_acl_summary [172.20.0.0:49152->8.8.8.8:80 TCP length=512]   \n",
       "\n",
       "  Action Line_Content  \\\n",
       "0  DENY   no-match      \n",
       "\n",
       "                                                              Trace  \n",
       "0  Flow did not match 'standard ipv4 access-list' named 'SPLIT-ACL'  "
      ]
     },
     "metadata": {},
     "output_type": "display_data"
    }
   ],
   "source": [
    "ip_flow = HeaderConstraints(srcIps='172.20.0.21/24',\n",
    "                                              dstIps='8.8.8.8')\n",
    "answer = bfq.testFilters(headers=ip_flow,\n",
    "                         nodes='asa_after_acl_summary',\n",
    "                         filters=\"SPLIT-ACL\").answer() \n",
    "show(answer.frame())"
   ]
  },
  {
   "cell_type": "code",
   "execution_count": null,
   "metadata": {},
   "outputs": [],
   "source": []
  }
 ],
 "metadata": {
  "kernelspec": {
   "display_name": "Python 3",
   "language": "python",
   "name": "python3"
  },
  "language_info": {
   "codemirror_mode": {
    "name": "ipython",
    "version": 3
   },
   "file_extension": ".py",
   "mimetype": "text/x-python",
   "name": "python",
   "nbconvert_exporter": "python",
   "pygments_lexer": "ipython3",
   "version": "3.7.0"
  }
 },
 "nbformat": 4,
 "nbformat_minor": 2
}
