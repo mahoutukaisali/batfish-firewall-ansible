{
 "cells": [
  {
   "cell_type": "code",
   "execution_count": 1,
   "metadata": {},
   "outputs": [
    {
     "name": "stderr",
     "output_type": "stream",
     "text": [
      "Your snapshot was successfully initialized but Batfish failed to fully recognized some lines in one or more input files. Some unrecognized configuration lines are not uncommon for new networks, and it is often fine to proceed with further analysis. You can help the Batfish developers improve support for your network by running:\n",
      "\n",
      "    bf_upload_diagnostics(dry_run=False, contact_info='<optional email address>')\n",
      "\n",
      "to share private, anonymized information. For more information, see the documentation with:\n",
      "\n",
      "    help(bf_upload_diagnostics)\n"
     ]
    },
    {
     "data": {
      "text/plain": [
       "'mycurrent'"
      ]
     },
     "execution_count": 1,
     "metadata": {},
     "output_type": "execute_result"
    }
   ],
   "source": [
    "# Assign a friendly name to your network and snapshot\n",
    "%run startup.py\n",
    "load_questions()\n",
    "\n",
    "# Initialize a network and a snapshot\n",
    "bf_set_network(\"network-example-filters\")\n",
    "\n",
    "SNAPSHOT_NAME = \"mycurrent\"\n",
    "SNAPSHOT_PATH = \"networks/example-filters/mycurrent\"\n",
    "bf_init_snapshot(SNAPSHOT_PATH, name=SNAPSHOT_NAME, overwrite=True)"
   ]
  },
  {
   "cell_type": "code",
   "execution_count": 2,
   "metadata": {},
   "outputs": [],
   "source": [
    "load_questions()\n",
    "#?bfq.nodeProperties"
   ]
  },
  {
   "cell_type": "code",
   "execution_count": 3,
   "metadata": {},
   "outputs": [],
   "source": [
    "parse_status = bfq.fileParseStatus().answer().frame()"
   ]
  },
  {
   "cell_type": "code",
   "execution_count": 4,
   "metadata": {},
   "outputs": [
    {
     "data": {
      "text/html": [
       "<div>\n",
       "<style scoped>\n",
       "    .dataframe tbody tr th:only-of-type {\n",
       "        vertical-align: middle;\n",
       "    }\n",
       "\n",
       "    .dataframe tbody tr th {\n",
       "        vertical-align: top;\n",
       "    }\n",
       "\n",
       "    .dataframe thead th {\n",
       "        text-align: right;\n",
       "    }\n",
       "</style>\n",
       "<table border=\"1\" class=\"dataframe tex2jax_ignore\">\n",
       "  <thead>\n",
       "    <tr style=\"text-align: right;\">\n",
       "      <th></th>\n",
       "      <th>File_Name</th>\n",
       "      <th>Status</th>\n",
       "      <th>Nodes</th>\n",
       "    </tr>\n",
       "  </thead>\n",
       "  <tbody>\n",
       "    <tr>\n",
       "      <th>0</th>\n",
       "      <td>configs/N9k-v1.cfg</td>\n",
       "      <td>PASSED</td>\n",
       "      <td>['n9kv-1']</td>\n",
       "    </tr>\n",
       "    <tr>\n",
       "      <th>1</th>\n",
       "      <td>configs/after_summary_asa.cfg</td>\n",
       "      <td>PARTIALLY_UNRECOGNIZED</td>\n",
       "      <td>['after_summary_asa']</td>\n",
       "    </tr>\n",
       "    <tr>\n",
       "      <th>2</th>\n",
       "      <td>configs/before_summary_asa.cfg</td>\n",
       "      <td>PARTIALLY_UNRECOGNIZED</td>\n",
       "      <td>['before_summary_asa']</td>\n",
       "    </tr>\n",
       "    <tr>\n",
       "      <th>3</th>\n",
       "      <td>configs/ciscoasa.cfg</td>\n",
       "      <td>PARTIALLY_UNRECOGNIZED</td>\n",
       "      <td>['ciscoasa']</td>\n",
       "    </tr>\n",
       "  </tbody>\n",
       "</table>\n",
       "</div>"
      ],
      "text/plain": [
       "                        File_Name                  Status  \\\n",
       "0  configs/N9k-v1.cfg              PASSED                   \n",
       "1  configs/after_summary_asa.cfg   PARTIALLY_UNRECOGNIZED   \n",
       "2  configs/before_summary_asa.cfg  PARTIALLY_UNRECOGNIZED   \n",
       "3  configs/ciscoasa.cfg            PARTIALLY_UNRECOGNIZED   \n",
       "\n",
       "                    Nodes  \n",
       "0  ['n9kv-1']              \n",
       "1  ['after_summary_asa']   \n",
       "2  ['before_summary_asa']  \n",
       "3  ['ciscoasa']            "
      ]
     },
     "execution_count": 4,
     "metadata": {},
     "output_type": "execute_result"
    }
   ],
   "source": [
    "parse_status"
   ]
  },
  {
   "cell_type": "code",
   "execution_count": 14,
   "metadata": {},
   "outputs": [
    {
     "data": {
      "text/html": [
       "<div>\n",
       "<style scoped>\n",
       "    .dataframe tbody tr th:only-of-type {\n",
       "        vertical-align: middle;\n",
       "    }\n",
       "\n",
       "    .dataframe tbody tr th {\n",
       "        vertical-align: top;\n",
       "    }\n",
       "\n",
       "    .dataframe thead th {\n",
       "        text-align: right;\n",
       "    }\n",
       "</style>\n",
       "<table border=\"1\" class=\"dataframe tex2jax_ignore\">\n",
       "  <thead>\n",
       "    <tr style=\"text-align: right;\">\n",
       "      <th></th>\n",
       "      <th>Node</th>\n",
       "      <th>VRF</th>\n",
       "      <th>Process_ID</th>\n",
       "      <th>Areas</th>\n",
       "      <th>Reference_Bandwidth</th>\n",
       "      <th>Router_ID</th>\n",
       "      <th>Export_Policy_Sources</th>\n",
       "      <th>Area_Border_Router</th>\n",
       "    </tr>\n",
       "  </thead>\n",
       "  <tbody>\n",
       "    <tr>\n",
       "      <th>0</th>\n",
       "      <td>ciscoasa</td>\n",
       "      <td>default</td>\n",
       "      <td>1</td>\n",
       "      <td>[]</td>\n",
       "      <td>1e+08</td>\n",
       "      <td>200.0.4.5</td>\n",
       "      <td>[]</td>\n",
       "      <td>False</td>\n",
       "    </tr>\n",
       "  </tbody>\n",
       "</table>\n",
       "</div>"
      ],
      "text/plain": [
       "       Node      VRF Process_ID Areas Reference_Bandwidth  Router_ID  \\\n",
       "0  ciscoasa  default  1          []    1e+08               200.0.4.5   \n",
       "\n",
       "  Export_Policy_Sources Area_Border_Router  \n",
       "0  []                    False              "
      ]
     },
     "execution_count": 14,
     "metadata": {},
     "output_type": "execute_result"
    }
   ],
   "source": [
    "question1 = bfq.ospfProcessConfiguration(nodes='ciscoasa').answer().frame()\n",
    "question1"
   ]
  },
  {
   "cell_type": "code",
   "execution_count": 11,
   "metadata": {},
   "outputs": [
    {
     "data": {
      "text/html": [
       "<div>\n",
       "<style scoped>\n",
       "    .dataframe tbody tr th:only-of-type {\n",
       "        vertical-align: middle;\n",
       "    }\n",
       "\n",
       "    .dataframe tbody tr th {\n",
       "        vertical-align: top;\n",
       "    }\n",
       "\n",
       "    .dataframe thead th {\n",
       "        text-align: right;\n",
       "    }\n",
       "</style>\n",
       "<table border=\"1\" class=\"dataframe tex2jax_ignore\">\n",
       "  <thead>\n",
       "    <tr style=\"text-align: right;\">\n",
       "      <th></th>\n",
       "      <th>Node</th>\n",
       "      <th>VRF</th>\n",
       "      <th>Process_ID</th>\n",
       "      <th>Areas</th>\n",
       "      <th>Reference_Bandwidth</th>\n",
       "      <th>Router_ID</th>\n",
       "      <th>Export_Policy_Sources</th>\n",
       "      <th>Area_Border_Router</th>\n",
       "    </tr>\n",
       "  </thead>\n",
       "  <tbody>\n",
       "    <tr>\n",
       "      <th>0</th>\n",
       "      <td>n9kv-1</td>\n",
       "      <td>default</td>\n",
       "      <td>1</td>\n",
       "      <td>['0']</td>\n",
       "      <td>4e+10</td>\n",
       "      <td>1.1.4.1</td>\n",
       "      <td>[]</td>\n",
       "      <td>False</td>\n",
       "    </tr>\n",
       "  </tbody>\n",
       "</table>\n",
       "</div>"
      ],
      "text/plain": [
       "     Node      VRF Process_ID  Areas Reference_Bandwidth Router_ID  \\\n",
       "0  n9kv-1  default  1          ['0']  4e+10               1.1.4.1    \n",
       "\n",
       "  Export_Policy_Sources Area_Border_Router  \n",
       "0  []                    False              "
      ]
     },
     "execution_count": 11,
     "metadata": {},
     "output_type": "execute_result"
    }
   ],
   "source": [
    "question2 = bfq.ospfProcessConfiguration(nodes='n9kv-1').answer().frame()\n",
    "question2"
   ]
  },
  {
   "cell_type": "code",
   "execution_count": 20,
   "metadata": {},
   "outputs": [
    {
     "data": {
      "text/html": [
       "<div>\n",
       "<style scoped>\n",
       "    .dataframe tbody tr th:only-of-type {\n",
       "        vertical-align: middle;\n",
       "    }\n",
       "\n",
       "    .dataframe tbody tr th {\n",
       "        vertical-align: top;\n",
       "    }\n",
       "\n",
       "    .dataframe thead th {\n",
       "        text-align: right;\n",
       "    }\n",
       "</style>\n",
       "<table border=\"1\" class=\"dataframe tex2jax_ignore\">\n",
       "  <thead>\n",
       "    <tr style=\"text-align: right;\">\n",
       "      <th></th>\n",
       "      <th>Interface</th>\n",
       "      <th>Remote_Interface</th>\n",
       "    </tr>\n",
       "  </thead>\n",
       "  <tbody>\n",
       "  </tbody>\n",
       "</table>\n",
       "</div>"
      ],
      "text/plain": [
       "Empty DataFrame\n",
       "Columns: [Interface, Remote_Interface]\n",
       "Index: []"
      ]
     },
     "execution_count": 20,
     "metadata": {},
     "output_type": "execute_result"
    }
   ],
   "source": [
    "# Get edges of type layer 3 (IP layer)\n",
    "bfq.edges(nodes=\"ciscoasa\", edgeType=\"ospf\").answer().frame()"
   ]
  },
  {
   "cell_type": "code",
   "execution_count": 18,
   "metadata": {},
   "outputs": [
    {
     "data": {
      "text/html": [
       "<div>\n",
       "<style scoped>\n",
       "    .dataframe tbody tr th:only-of-type {\n",
       "        vertical-align: middle;\n",
       "    }\n",
       "\n",
       "    .dataframe tbody tr th {\n",
       "        vertical-align: top;\n",
       "    }\n",
       "\n",
       "    .dataframe thead th {\n",
       "        text-align: right;\n",
       "    }\n",
       "</style>\n",
       "<table border=\"1\" class=\"dataframe tex2jax_ignore\">\n",
       "  <thead>\n",
       "    <tr style=\"text-align: right;\">\n",
       "      <th></th>\n",
       "      <th>Interface</th>\n",
       "      <th>Remote_Interface</th>\n",
       "    </tr>\n",
       "  </thead>\n",
       "  <tbody>\n",
       "  </tbody>\n",
       "</table>\n",
       "</div>"
      ],
      "text/plain": [
       "Empty DataFrame\n",
       "Columns: [Interface, Remote_Interface]\n",
       "Index: []"
      ]
     },
     "execution_count": 18,
     "metadata": {},
     "output_type": "execute_result"
    }
   ],
   "source": [
    "# Get edges of type layer 3 (IP layer)\n",
    "bfq.edges(nodes=\"n9kv-1\", edgeType=\"ospf\").answer().frame()"
   ]
  },
  {
   "cell_type": "code",
   "execution_count": 16,
   "metadata": {},
   "outputs": [
    {
     "data": {
      "text/html": [
       "<div>\n",
       "<style scoped>\n",
       "    .dataframe tbody tr th:only-of-type {\n",
       "        vertical-align: middle;\n",
       "    }\n",
       "\n",
       "    .dataframe tbody tr th {\n",
       "        vertical-align: top;\n",
       "    }\n",
       "\n",
       "    .dataframe thead th {\n",
       "        text-align: right;\n",
       "    }\n",
       "</style>\n",
       "<table border=\"1\" class=\"dataframe tex2jax_ignore\">\n",
       "  <thead>\n",
       "    <tr style=\"text-align: right;\">\n",
       "      <th></th>\n",
       "      <th>Interface</th>\n",
       "      <th>IPs</th>\n",
       "      <th>Remote_Interface</th>\n",
       "      <th>Remote_IPs</th>\n",
       "    </tr>\n",
       "  </thead>\n",
       "  <tbody>\n",
       "    <tr>\n",
       "      <th>0</th>\n",
       "      <td>n9kv-1[Ethernet1/1]</td>\n",
       "      <td>['192.168.1.2']</td>\n",
       "      <td>before_summary_asa[inside]</td>\n",
       "      <td>['192.168.1.4']</td>\n",
       "    </tr>\n",
       "    <tr>\n",
       "      <th>1</th>\n",
       "      <td>n9kv-1[Ethernet1/1]</td>\n",
       "      <td>['192.168.1.2']</td>\n",
       "      <td>after_summary_asa[inside]</td>\n",
       "      <td>['192.168.1.4']</td>\n",
       "    </tr>\n",
       "    <tr>\n",
       "      <th>2</th>\n",
       "      <td>n9kv-1[Ethernet1/1]</td>\n",
       "      <td>['192.168.1.2']</td>\n",
       "      <td>ciscoasa[inside]</td>\n",
       "      <td>['192.168.1.4']</td>\n",
       "    </tr>\n",
       "  </tbody>\n",
       "</table>\n",
       "</div>"
      ],
      "text/plain": [
       "             Interface              IPs            Remote_Interface  \\\n",
       "0  n9kv-1[Ethernet1/1]  ['192.168.1.2']  before_summary_asa[inside]   \n",
       "1  n9kv-1[Ethernet1/1]  ['192.168.1.2']  after_summary_asa[inside]    \n",
       "2  n9kv-1[Ethernet1/1]  ['192.168.1.2']  ciscoasa[inside]             \n",
       "\n",
       "        Remote_IPs  \n",
       "0  ['192.168.1.4']  \n",
       "1  ['192.168.1.4']  \n",
       "2  ['192.168.1.4']  "
      ]
     },
     "execution_count": 16,
     "metadata": {},
     "output_type": "execute_result"
    }
   ],
   "source": [
    "bfq.edges(nodes=\"n9kv-1\", edgeType=\"layer3\").answer().frame()"
   ]
  },
  {
   "cell_type": "code",
   "execution_count": null,
   "metadata": {},
   "outputs": [],
   "source": []
  }
 ],
 "metadata": {
  "kernelspec": {
   "display_name": "Python 3",
   "language": "python",
   "name": "python3"
  },
  "language_info": {
   "codemirror_mode": {
    "name": "ipython",
    "version": 3
   },
   "file_extension": ".py",
   "mimetype": "text/x-python",
   "name": "python",
   "nbconvert_exporter": "python",
   "pygments_lexer": "ipython3",
   "version": "3.7.0"
  }
 },
 "nbformat": 4,
 "nbformat_minor": 2
}
