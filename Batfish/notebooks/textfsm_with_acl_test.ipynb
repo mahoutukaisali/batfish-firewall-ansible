{
 "cells": [
  {
   "cell_type": "markdown",
   "metadata": {},
   "source": [
    "スクリプト実行に必要な環境をセットアップします。"
   ]
  },
  {
   "cell_type": "code",
   "execution_count": null,
   "metadata": {},
   "outputs": [],
   "source": [
    "%run startup.py\n",
    "load_questions()"
   ]
  },
  {
   "cell_type": "code",
   "execution_count": 3,
   "metadata": {},
   "outputs": [
    {
     "name": "stderr",
     "output_type": "stream",
     "text": [
      "Your snapshot was successfully initialized but Batfish failed to fully recognized some lines in one or more input files. Some unrecognized configuration lines are not uncommon for new networks, and it is often fine to proceed with further analysis. You can help the Batfish developers improve support for your network by running:\n",
      "\n",
      "    bf_upload_diagnostics(dry_run=False, contact_info='<optional email address>')\n",
      "\n",
      "to share private, anonymized information. For more information, see the documentation with:\n",
      "\n",
      "    help(bf_upload_diagnostics)\n"
     ]
    },
    {
     "data": {
      "text/html": [
       "<div>\n",
       "<style scoped>\n",
       "    .dataframe tbody tr th:only-of-type {\n",
       "        vertical-align: middle;\n",
       "    }\n",
       "\n",
       "    .dataframe tbody tr th {\n",
       "        vertical-align: top;\n",
       "    }\n",
       "\n",
       "    .dataframe thead th {\n",
       "        text-align: right;\n",
       "    }\n",
       "</style>\n",
       "<table border=\"1\" class=\"dataframe tex2jax_ignore\">\n",
       "  <thead>\n",
       "    <tr style=\"text-align: right;\">\n",
       "      <th></th>\n",
       "      <th>File_Name</th>\n",
       "      <th>Status</th>\n",
       "      <th>Nodes</th>\n",
       "    </tr>\n",
       "  </thead>\n",
       "  <tbody>\n",
       "    <tr>\n",
       "      <th>0</th>\n",
       "      <td>configs/N9k-v1.cfg</td>\n",
       "      <td>PASSED</td>\n",
       "      <td>['n9kv-1']</td>\n",
       "    </tr>\n",
       "    <tr>\n",
       "      <th>1</th>\n",
       "      <td>configs/after_summary_asa.cfg</td>\n",
       "      <td>PARTIALLY_UNRECOGNIZED</td>\n",
       "      <td>['after_summary_asa']</td>\n",
       "    </tr>\n",
       "    <tr>\n",
       "      <th>2</th>\n",
       "      <td>configs/before_summary_asa.cfg</td>\n",
       "      <td>PARTIALLY_UNRECOGNIZED</td>\n",
       "      <td>['before_summary_asa']</td>\n",
       "    </tr>\n",
       "    <tr>\n",
       "      <th>3</th>\n",
       "      <td>configs/ciscoasa.cfg</td>\n",
       "      <td>PARTIALLY_UNRECOGNIZED</td>\n",
       "      <td>['ciscoasa']</td>\n",
       "    </tr>\n",
       "  </tbody>\n",
       "</table>\n",
       "</div>"
      ],
      "text/plain": [
       "                        File_Name                  Status  \\\n",
       "0  configs/N9k-v1.cfg              PASSED                   \n",
       "1  configs/after_summary_asa.cfg   PARTIALLY_UNRECOGNIZED   \n",
       "2  configs/before_summary_asa.cfg  PARTIALLY_UNRECOGNIZED   \n",
       "3  configs/ciscoasa.cfg            PARTIALLY_UNRECOGNIZED   \n",
       "\n",
       "                    Nodes  \n",
       "0  ['n9kv-1']              \n",
       "1  ['after_summary_asa']   \n",
       "2  ['before_summary_asa']  \n",
       "3  ['ciscoasa']            "
      ]
     },
     "execution_count": 3,
     "metadata": {},
     "output_type": "execute_result"
    }
   ],
   "source": [
    "import os\n",
    "os.system('python startup.py')\n",
    "  \n",
    "# Initialize a network and a snapshot\n",
    "bf_set_network(\"network-example-filters\")\n",
    "SNAPSHOT_NAME = \"mycurrent\"\n",
    "SNAPSHOT_PATH = \"networks/example-filters/mycurrent\"\n",
    "bf_init_snapshot(SNAPSHOT_PATH, name=SNAPSHOT_NAME, overwrite=True)\n",
    "load_questions()\n",
    "\n",
    "parse_status = bfq.fileParseStatus().answer().frame()\n",
    "parse_status"
   ]
  },
  {
   "cell_type": "code",
   "execution_count": 4,
   "metadata": {},
   "outputs": [
    {
     "data": {
      "text/html": [
       "<style  type=\"text/css\" >\n",
       "    #T_pybfstylerow0_col0 {\n",
       "            text-align:  left;\n",
       "            vertical-align:  top;\n",
       "        }    #T_pybfstylerow0_col1 {\n",
       "            text-align:  left;\n",
       "            vertical-align:  top;\n",
       "        }    #T_pybfstylerow0_col2 {\n",
       "            text-align:  left;\n",
       "            vertical-align:  top;\n",
       "        }    #T_pybfstylerow0_col3 {\n",
       "            text-align:  left;\n",
       "            vertical-align:  top;\n",
       "        }    #T_pybfstylerow0_col4 {\n",
       "            text-align:  left;\n",
       "            vertical-align:  top;\n",
       "        }    #T_pybfstylerow0_col5 {\n",
       "            text-align:  left;\n",
       "            vertical-align:  top;\n",
       "        }</style><table id=\"T_pybfstyle\"  class=\"tex2jax_ignore\"><thead>    <tr>        <th class=\"blank level0\" ></th>        <th class=\"col_heading level0 col0\" >Node</th>        <th class=\"col_heading level0 col1\" >Filter_Name</th>        <th class=\"col_heading level0 col2\" >Flow</th>        <th class=\"col_heading level0 col3\" >Action</th>        <th class=\"col_heading level0 col4\" >Line_Content</th>        <th class=\"col_heading level0 col5\" >Trace</th>    </tr></thead><tbody>\n",
       "                <tr>\n",
       "                        <th id=\"T_pybfstylelevel0_row0\" class=\"row_heading level0 row0\" >0</th>\n",
       "                        <td id=\"T_pybfstylerow0_col0\" class=\"data row0 col0\" >before_summary_asa</td>\n",
       "                        <td id=\"T_pybfstylerow0_col1\" class=\"data row0 col1\" >SPLIT-ACL</td>\n",
       "                        <td id=\"T_pybfstylerow0_col2\" class=\"data row0 col2\" >Start Location: before_summary_asa<br>Src IP: 192.168.1.0<br>Src Port: 49152<br>Dst IP: 8.8.8.8<br>Dst Port: 80<br>IP Protocol: TCP</td>\n",
       "                        <td id=\"T_pybfstylerow0_col3\" class=\"data row0 col3\" >PERMIT</td>\n",
       "                        <td id=\"T_pybfstylerow0_col4\" class=\"data row0 col4\" >permit    10.20.0.0 255.255.255.0</td>\n",
       "                        <td id=\"T_pybfstylerow0_col5\" class=\"data row0 col5\" >AclTrace(events=[AclTraceEvent(class_name=&#x27;org.batfish.datamodel.acl.PermittedByIpAccessListLine&#x27;, description=&#x27;Flow permitted by standard ipv4 access-list named SPLIT-ACL, index 0: permit    10.20.0.0 255.255.255.0&#x27;, lineDescription=&#x27;permit    10.20.0.0 255.255.255.0&#x27;)])</td>\n",
       "            </tr>\n",
       "    </tbody></table>"
      ],
      "text/plain": [
       "                 Node Filter_Name  \\\n",
       "0  before_summary_asa  SPLIT-ACL    \n",
       "\n",
       "                                                                      Flow  \\\n",
       "0  start=before_summary_asa [192.168.1.0:49152->8.8.8.8:80 TCP length=512]   \n",
       "\n",
       "   Action                       Line_Content  \\\n",
       "0  PERMIT  permit    10.20.0.0 255.255.255.0   \n",
       "\n",
       "                                                                                                     Trace  \n",
       "0  Flow permitted by standard ipv4 access-list named SPLIT-ACL, index 0: permit    10.20.0.0 255.255.255.0  "
      ]
     },
     "metadata": {},
     "output_type": "display_data"
    },
    {
     "data": {
      "text/html": [
       "<style  type=\"text/css\" >\n",
       "    #T_pybfstylerow0_col0 {\n",
       "            text-align:  left;\n",
       "            vertical-align:  top;\n",
       "        }    #T_pybfstylerow0_col1 {\n",
       "            text-align:  left;\n",
       "            vertical-align:  top;\n",
       "        }    #T_pybfstylerow0_col2 {\n",
       "            text-align:  left;\n",
       "            vertical-align:  top;\n",
       "        }    #T_pybfstylerow0_col3 {\n",
       "            text-align:  left;\n",
       "            vertical-align:  top;\n",
       "        }    #T_pybfstylerow0_col4 {\n",
       "            text-align:  left;\n",
       "            vertical-align:  top;\n",
       "        }    #T_pybfstylerow0_col5 {\n",
       "            text-align:  left;\n",
       "            vertical-align:  top;\n",
       "        }</style><table id=\"T_pybfstyle\"  class=\"tex2jax_ignore\"><thead>    <tr>        <th class=\"blank level0\" ></th>        <th class=\"col_heading level0 col0\" >Node</th>        <th class=\"col_heading level0 col1\" >Filter_Name</th>        <th class=\"col_heading level0 col2\" >Flow</th>        <th class=\"col_heading level0 col3\" >Action</th>        <th class=\"col_heading level0 col4\" >Line_Content</th>        <th class=\"col_heading level0 col5\" >Trace</th>    </tr></thead><tbody>\n",
       "                <tr>\n",
       "                        <th id=\"T_pybfstylelevel0_row0\" class=\"row_heading level0 row0\" >0</th>\n",
       "                        <td id=\"T_pybfstylerow0_col0\" class=\"data row0 col0\" >before_summary_asa</td>\n",
       "                        <td id=\"T_pybfstylerow0_col1\" class=\"data row0 col1\" >SPLIT-ACL</td>\n",
       "                        <td id=\"T_pybfstylerow0_col2\" class=\"data row0 col2\" >Start Location: before_summary_asa<br>Src IP: 192.168.1.0<br>Src Port: 49152<br>Dst IP: 8.8.8.8<br>Dst Port: 80<br>IP Protocol: TCP</td>\n",
       "                        <td id=\"T_pybfstylerow0_col3\" class=\"data row0 col3\" >PERMIT</td>\n",
       "                        <td id=\"T_pybfstylerow0_col4\" class=\"data row0 col4\" >permit    10.20.0.0 255.255.255.0</td>\n",
       "                        <td id=\"T_pybfstylerow0_col5\" class=\"data row0 col5\" >AclTrace(events=[AclTraceEvent(class_name=&#x27;org.batfish.datamodel.acl.PermittedByIpAccessListLine&#x27;, description=&#x27;Flow permitted by standard ipv4 access-list named SPLIT-ACL, index 0: permit    10.20.0.0 255.255.255.0&#x27;, lineDescription=&#x27;permit    10.20.0.0 255.255.255.0&#x27;)])</td>\n",
       "            </tr>\n",
       "    </tbody></table>"
      ],
      "text/plain": [
       "                 Node Filter_Name  \\\n",
       "0  before_summary_asa  SPLIT-ACL    \n",
       "\n",
       "                                                                      Flow  \\\n",
       "0  start=before_summary_asa [192.168.1.0:49152->8.8.8.8:80 TCP length=512]   \n",
       "\n",
       "   Action                       Line_Content  \\\n",
       "0  PERMIT  permit    10.20.0.0 255.255.255.0   \n",
       "\n",
       "                                                                                                     Trace  \n",
       "0  Flow permitted by standard ipv4 access-list named SPLIT-ACL, index 0: permit    10.20.0.0 255.255.255.0  "
      ]
     },
     "metadata": {},
     "output_type": "display_data"
    },
    {
     "data": {
      "text/html": [
       "<style  type=\"text/css\" >\n",
       "    #T_pybfstylerow0_col0 {\n",
       "            text-align:  left;\n",
       "            vertical-align:  top;\n",
       "        }    #T_pybfstylerow0_col1 {\n",
       "            text-align:  left;\n",
       "            vertical-align:  top;\n",
       "        }    #T_pybfstylerow0_col2 {\n",
       "            text-align:  left;\n",
       "            vertical-align:  top;\n",
       "        }    #T_pybfstylerow0_col3 {\n",
       "            text-align:  left;\n",
       "            vertical-align:  top;\n",
       "        }    #T_pybfstylerow0_col4 {\n",
       "            text-align:  left;\n",
       "            vertical-align:  top;\n",
       "        }    #T_pybfstylerow0_col5 {\n",
       "            text-align:  left;\n",
       "            vertical-align:  top;\n",
       "        }</style><table id=\"T_pybfstyle\"  class=\"tex2jax_ignore\"><thead>    <tr>        <th class=\"blank level0\" ></th>        <th class=\"col_heading level0 col0\" >Node</th>        <th class=\"col_heading level0 col1\" >Filter_Name</th>        <th class=\"col_heading level0 col2\" >Flow</th>        <th class=\"col_heading level0 col3\" >Action</th>        <th class=\"col_heading level0 col4\" >Line_Content</th>        <th class=\"col_heading level0 col5\" >Trace</th>    </tr></thead><tbody>\n",
       "                <tr>\n",
       "                        <th id=\"T_pybfstylelevel0_row0\" class=\"row_heading level0 row0\" >0</th>\n",
       "                        <td id=\"T_pybfstylerow0_col0\" class=\"data row0 col0\" >before_summary_asa</td>\n",
       "                        <td id=\"T_pybfstylerow0_col1\" class=\"data row0 col1\" >SPLIT-ACL</td>\n",
       "                        <td id=\"T_pybfstylerow0_col2\" class=\"data row0 col2\" >Start Location: before_summary_asa<br>Src IP: 172.168.1.0<br>Src Port: 49152<br>Dst IP: 8.8.8.8<br>Dst Port: 80<br>IP Protocol: TCP</td>\n",
       "                        <td id=\"T_pybfstylerow0_col3\" class=\"data row0 col3\" >PERMIT</td>\n",
       "                        <td id=\"T_pybfstylerow0_col4\" class=\"data row0 col4\" >permit    10.20.0.0 255.255.255.0</td>\n",
       "                        <td id=\"T_pybfstylerow0_col5\" class=\"data row0 col5\" >AclTrace(events=[AclTraceEvent(class_name=&#x27;org.batfish.datamodel.acl.PermittedByIpAccessListLine&#x27;, description=&#x27;Flow permitted by standard ipv4 access-list named SPLIT-ACL, index 0: permit    10.20.0.0 255.255.255.0&#x27;, lineDescription=&#x27;permit    10.20.0.0 255.255.255.0&#x27;)])</td>\n",
       "            </tr>\n",
       "    </tbody></table>"
      ],
      "text/plain": [
       "                 Node Filter_Name  \\\n",
       "0  before_summary_asa  SPLIT-ACL    \n",
       "\n",
       "                                                                      Flow  \\\n",
       "0  start=before_summary_asa [172.168.1.0:49152->8.8.8.8:80 TCP length=512]   \n",
       "\n",
       "   Action                       Line_Content  \\\n",
       "0  PERMIT  permit    10.20.0.0 255.255.255.0   \n",
       "\n",
       "                                                                                                     Trace  \n",
       "0  Flow permitted by standard ipv4 access-list named SPLIT-ACL, index 0: permit    10.20.0.0 255.255.255.0  "
      ]
     },
     "metadata": {},
     "output_type": "display_data"
    }
   ],
   "source": [
    "import os\n",
    "import sys\n",
    "import re\n",
    "#textfsmのパスをnotebookに渡す\n",
    "sys.path.append('/Users/lisago/python/ansible/venv/lib/python3.7/site-packages')\n",
    "\n",
    "import textfsm\n",
    "\n",
    "#acl_file = 'networks/example-filters/mycandidate/config/ASA_acl.cfg'\n",
    "#ntc_template = 'ntc-templates/cisco_asa_show_access-list.template'\n",
    "#acl_file = 'networks/example-filters/mycandidate/config/nxos_acl_sample.cfg'\n",
    "#ntc_template = 'ntc-templates/cisco_nxos_show_access-lists.template'\n",
    "interface_config_file = 'networks/example-filters/mycandidate/config/cisco_ios_show_ip_interfaces.cfg'\n",
    "ntc_template = 'ntc-templates/cisco_ios_show_ip_interfaces.template'\n",
    "\n",
    "'''\n",
    "[{'INTF': 'Serial0', 'LINK_STATUS': 'down', 'PROTOCOL_STATUS': 'down', 'IPADDR': ['192.168.1.1/24*'],\n",
    "'MASK': ['1'], 'VRF': '', 'MTU': '1500', 'IP_HELPER': [], 'OUTGOING_ACL': '', 'INBOUND_ACL': ''}]\n",
    "'''\n",
    "\n",
    "def output(interface, template):\n",
    "    with open(interface, 'r') as f:\n",
    "        inventory_text = f.read()\n",
    "    \n",
    "    with open(ntc_template) as f:\n",
    "        #table = textfsm.TextFSM(f)\n",
    "        fsm = textfsm.TextFSM(f)\n",
    "        fsm_results = fsm.ParseText(inventory_text)\n",
    "        parsed = [dict(zip(fsm.header, row)) for row in fsm_results]\n",
    "        f.close()\n",
    "    return parsed\n",
    "\n",
    "def extract_interface(parsed):\n",
    "    address_list = []\n",
    "    for con in parsed:\n",
    "        ipaddress = con['IPADDR']\n",
    "        for add in ipaddress:\n",
    "            #address.strip('*')\n",
    "            address = re.sub(r'\\*', ' ', add)\n",
    "            address_list.append(address)\n",
    "            \n",
    "    return address_list\n",
    "    \n",
    "\n",
    "parsed = output(interface_config_file, ntc_template)\n",
    "address_list = extract_interface(parsed)\n",
    "\n",
    "for address in address_list:\n",
    "    ip_flow = HeaderConstraints(srcIps=address)\n",
    "                             #dstIps='255.255.255.0')\n",
    "    answer = bfq.testFilters(headers=ip_flow,\n",
    "                             nodes='before_summary_asa',\n",
    "                             filters=\"SPLIT-ACL\").answer() \n",
    "    show(answer.frame())\n",
    "    \n",
    "\n",
    "\n",
    "    "
   ]
  },
  {
   "cell_type": "code",
   "execution_count": 2,
   "metadata": {},
   "outputs": [
    {
     "name": "stdout",
     "output_type": "stream",
     "text": [
      "Name: jupyter\n",
      "Version: 1.0.0\n",
      "Summary: Jupyter metapackage. Install all the Jupyter components in one go.\n",
      "Home-page: http://jupyter.org\n",
      "Author: Jupyter Development Team\n",
      "Author-email: jupyter@googlegroups.org\n",
      "License: BSD\n",
      "Location: /usr/local/lib/python3.7/site-packages\n",
      "Requires: nbconvert, ipywidgets, qtconsole, notebook, ipykernel, jupyter-console\n",
      "Required-by: \n",
      "Note: you may need to restart the kernel to use updated packages.\n"
     ]
    }
   ],
   "source": [
    "pip show jupyter"
   ]
  },
  {
   "cell_type": "code",
   "execution_count": 7,
   "metadata": {},
   "outputs": [
    {
     "name": "stderr",
     "output_type": "stream",
     "text": [
      "UsageError: Cell magic `%%which` not found.\n"
     ]
    }
   ],
   "source": [
    "%%which python"
   ]
  },
  {
   "cell_type": "code",
   "execution_count": 9,
   "metadata": {},
   "outputs": [
    {
     "name": "stdout",
     "output_type": "stream",
     "text": [
      "/usr/local/Cellar/python/3.7.4/Frameworks/Python.framework/Versions/3.7\n"
     ]
    }
   ],
   "source": [
    "import sys\n",
    "print(sys.prefix)"
   ]
  },
  {
   "cell_type": "code",
   "execution_count": 10,
   "metadata": {},
   "outputs": [
    {
     "name": "stdout",
     "output_type": "stream",
     "text": [
      "['/Users/lisago/python/project/Batfish/Batfish/notebooks', '/usr/local/Cellar/python/3.7.4/Frameworks/Python.framework/Versions/3.7/lib/python37.zip', '/usr/local/Cellar/python/3.7.4/Frameworks/Python.framework/Versions/3.7/lib/python3.7', '/usr/local/Cellar/python/3.7.4/Frameworks/Python.framework/Versions/3.7/lib/python3.7/lib-dynload', '', '/Users/lisago/Library/Python/3.7/lib/python/site-packages', '/usr/local/lib/python3.7/site-packages', '/usr/local/lib/python3.7/site-packages/IPython/extensions', '/Users/lisago/.ipython']\n"
     ]
    }
   ],
   "source": [
    "import sys\n",
    "print(sys.path)"
   ]
  },
  {
   "cell_type": "code",
   "execution_count": null,
   "metadata": {},
   "outputs": [],
   "source": [
    "/Users/lisago/python/ansible/venv/lib/python3.7/site-packages"
   ]
  },
  {
   "cell_type": "code",
   "execution_count": 16,
   "metadata": {},
   "outputs": [],
   "source": [
    "import os\n",
    "import sys\n",
    "sys.path.append('/Users/lisago/python/ansible/venv/lib/python3.7/site-packages')\n",
    "\n",
    "import textfsm"
   ]
  },
  {
   "cell_type": "code",
   "execution_count": 11,
   "metadata": {},
   "outputs": [
    {
     "name": "stdout",
     "output_type": "stream",
     "text": [
      "{\"Node\":{\"0\":\"after_summary_asa\",\"1\":\"ciscoasa\",\"2\":\"n9kv-1\",\"3\":\"n9kv-1\",\"4\":\"after_summary_asa\",\"5\":\"before_summary_asa\",\"6\":\"n9kv-1\",\"7\":\"n9kv-1\",\"8\":\"ciscoasa\",\"9\":\"ciscoasa\",\"10\":\"n9kv-1\",\"11\":\"after_summary_asa\",\"12\":\"before_summary_asa\",\"13\":\"n9kv-1\",\"14\":\"n9kv-1\",\"15\":\"after_summary_asa\",\"16\":\"before_summary_asa\",\"17\":\"before_summary_asa\",\"18\":\"before_summary_asa\",\"19\":\"before_summary_asa\",\"20\":\"before_summary_asa\",\"21\":\"before_summary_asa\",\"22\":\"ciscoasa\",\"23\":\"ciscoasa\",\"24\":\"ciscoasa\",\"25\":\"ciscoasa\",\"26\":\"ciscoasa\",\"27\":\"before_summary_asa\",\"28\":\"after_summary_asa\",\"29\":\"after_summary_asa\",\"30\":\"after_summary_asa\",\"31\":\"after_summary_asa\",\"32\":\"after_summary_asa\",\"33\":\"ciscoasa\"},\"VRF\":{\"0\":\"default\",\"1\":\"default\",\"2\":\"default\",\"3\":\"default\",\"4\":\"default\",\"5\":\"default\",\"6\":\"default\",\"7\":\"default\",\"8\":\"default\",\"9\":\"default\",\"10\":\"default\",\"11\":\"default\",\"12\":\"default\",\"13\":\"management\",\"14\":\"default\",\"15\":\"default\",\"16\":\"default\",\"17\":\"default\",\"18\":\"default\",\"19\":\"default\",\"20\":\"default\",\"21\":\"default\",\"22\":\"default\",\"23\":\"default\",\"24\":\"default\",\"25\":\"default\",\"26\":\"default\",\"27\":\"default\",\"28\":\"default\",\"29\":\"default\",\"30\":\"default\",\"31\":\"default\",\"32\":\"default\",\"33\":\"default\"},\"Interface\":{\"0\":\"outside\",\"1\":\"inside2\",\"2\":\"Loopback0\",\"3\":\"Loopback2\",\"4\":\"inside2\",\"5\":\"inside2\",\"6\":\"Loopback1\",\"7\":\"Ethernet1\\/1\",\"8\":\"inside\",\"9\":\"inside1\",\"10\":\"Loopback4\",\"11\":\"inside1\",\"12\":\"inside\",\"13\":\"mgmt0\",\"14\":\"Loopback3\",\"15\":\"inside\",\"16\":\"inside1\",\"17\":\"management\",\"18\":\"outside\",\"19\":\"outside3\",\"20\":\"outside2\",\"21\":\"outside1\",\"22\":\"dmz\",\"23\":\"outside1\",\"24\":\"outside2\",\"25\":\"management\",\"26\":\"outside3\",\"27\":\"dmz\",\"28\":\"management\",\"29\":\"outside3\",\"30\":\"dmz\",\"31\":\"outside2\",\"32\":\"outside1\",\"33\":\"outside\"},\"IP\":{\"0\":\"192.168.2.1\",\"1\":\"200.0.4.5\",\"2\":\"1.1.0.1\",\"3\":\"1.1.2.1\",\"4\":\"200.0.4.5\",\"5\":\"200.0.4.5\",\"6\":\"1.1.1.1\",\"7\":\"192.168.1.2\",\"8\":\"192.168.1.4\",\"9\":\"200.0.3.4\",\"10\":\"1.1.4.1\",\"11\":\"200.0.3.4\",\"12\":\"192.168.1.4\",\"13\":\"192.0.2.17\",\"14\":\"1.1.3.1\",\"15\":\"192.168.1.4\",\"16\":\"200.0.3.4\",\"17\":\"192.0.2.15\",\"18\":\"192.168.2.1\",\"19\":\"200.0.2.3\",\"20\":\"200.0.1.2\",\"21\":\"200.0.0.1\",\"22\":\"100.0.0.1\",\"23\":\"200.0.0.1\",\"24\":\"200.0.1.2\",\"25\":\"192.0.2.15\",\"26\":\"200.0.2.3\",\"27\":\"100.0.0.1\",\"28\":\"192.0.2.15\",\"29\":\"200.0.2.3\",\"30\":\"100.0.0.1\",\"31\":\"200.0.1.2\",\"32\":\"200.0.0.1\",\"33\":\"192.168.2.1\"},\"Mask\":{\"0\":24,\"1\":24,\"2\":24,\"3\":24,\"4\":24,\"5\":24,\"6\":24,\"7\":24,\"8\":24,\"9\":24,\"10\":24,\"11\":24,\"12\":24,\"13\":24,\"14\":24,\"15\":24,\"16\":24,\"17\":24,\"18\":24,\"19\":24,\"20\":24,\"21\":24,\"22\":24,\"23\":24,\"24\":24,\"25\":24,\"26\":24,\"27\":24,\"28\":24,\"29\":24,\"30\":24,\"31\":24,\"32\":24,\"33\":24},\"Active\":{\"0\":true,\"1\":true,\"2\":true,\"3\":true,\"4\":true,\"5\":true,\"6\":true,\"7\":true,\"8\":true,\"9\":true,\"10\":true,\"11\":true,\"12\":true,\"13\":false,\"14\":true,\"15\":true,\"16\":true,\"17\":false,\"18\":true,\"19\":true,\"20\":true,\"21\":true,\"22\":true,\"23\":true,\"24\":true,\"25\":false,\"26\":true,\"27\":true,\"28\":false,\"29\":true,\"30\":true,\"31\":true,\"32\":true,\"33\":true}}\n"
     ]
    }
   ],
   "source": [
    "import json\n",
    "ip_owners_ans = bfq.ipOwners().answer()\n",
    "#print(ip_owners_ans)\n",
    "json_frame = ip_owners_ans.frame()\n",
    "print(json_frame.to_json())"
   ]
  },
  {
   "cell_type": "code",
   "execution_count": 12,
   "metadata": {},
   "outputs": [
    {
     "data": {
      "text/html": [
       "<style  type=\"text/css\" >\n",
       "    #T_pybfstylerow0_col0 {\n",
       "            text-align:  left;\n",
       "            vertical-align:  top;\n",
       "        }    #T_pybfstylerow0_col1 {\n",
       "            text-align:  left;\n",
       "            vertical-align:  top;\n",
       "        }    #T_pybfstylerow0_col2 {\n",
       "            text-align:  left;\n",
       "            vertical-align:  top;\n",
       "        }    #T_pybfstylerow0_col3 {\n",
       "            text-align:  left;\n",
       "            vertical-align:  top;\n",
       "        }    #T_pybfstylerow0_col4 {\n",
       "            text-align:  left;\n",
       "            vertical-align:  top;\n",
       "        }    #T_pybfstylerow0_col5 {\n",
       "            text-align:  left;\n",
       "            vertical-align:  top;\n",
       "        }</style><table id=\"T_pybfstyle\"  class=\"tex2jax_ignore\"><thead>    <tr>        <th class=\"blank level0\" ></th>        <th class=\"col_heading level0 col0\" >Node</th>        <th class=\"col_heading level0 col1\" >Filter_Name</th>        <th class=\"col_heading level0 col2\" >Flow</th>        <th class=\"col_heading level0 col3\" >Action</th>        <th class=\"col_heading level0 col4\" >Line_Content</th>        <th class=\"col_heading level0 col5\" >Trace</th>    </tr></thead><tbody>\n",
       "                <tr>\n",
       "                        <th id=\"T_pybfstylelevel0_row0\" class=\"row_heading level0 row0\" >0</th>\n",
       "                        <td id=\"T_pybfstylerow0_col0\" class=\"data row0 col0\" >before_summary_asa</td>\n",
       "                        <td id=\"T_pybfstylerow0_col1\" class=\"data row0 col1\" >SPLIT-ACL</td>\n",
       "                        <td id=\"T_pybfstylerow0_col2\" class=\"data row0 col2\" >Start Location: before_summary_asa<br>Src IP: 192.168.1.0<br>Src Port: 49152<br>Dst IP: 8.8.8.8<br>Dst Port: 80<br>IP Protocol: TCP</td>\n",
       "                        <td id=\"T_pybfstylerow0_col3\" class=\"data row0 col3\" >PERMIT</td>\n",
       "                        <td id=\"T_pybfstylerow0_col4\" class=\"data row0 col4\" >permit    10.20.0.0 255.255.255.0</td>\n",
       "                        <td id=\"T_pybfstylerow0_col5\" class=\"data row0 col5\" >AclTrace(events=[AclTraceEvent(class_name=&#x27;org.batfish.datamodel.acl.PermittedByIpAccessListLine&#x27;, description=&#x27;Flow permitted by standard ipv4 access-list named SPLIT-ACL, index 0: permit    10.20.0.0 255.255.255.0&#x27;, lineDescription=&#x27;permit    10.20.0.0 255.255.255.0&#x27;)])</td>\n",
       "            </tr>\n",
       "    </tbody></table>"
      ],
      "text/plain": [
       "                 Node Filter_Name  \\\n",
       "0  before_summary_asa  SPLIT-ACL    \n",
       "\n",
       "                                                                      Flow  \\\n",
       "0  start=before_summary_asa [192.168.1.0:49152->8.8.8.8:80 TCP length=512]   \n",
       "\n",
       "   Action                       Line_Content  \\\n",
       "0  PERMIT  permit    10.20.0.0 255.255.255.0   \n",
       "\n",
       "                                                                                                     Trace  \n",
       "0  Flow permitted by standard ipv4 access-list named SPLIT-ACL, index 0: permit    10.20.0.0 255.255.255.0  "
      ]
     },
     "metadata": {},
     "output_type": "display_data"
    }
   ],
   "source": [
    "ip_flow = HeaderConstraints(srcIps='192.168.1.2/24')\n",
    "                             #dstIps='255.255.255.0')\n",
    "answer = bfq.testFilters(headers=ip_flow,\n",
    "                             nodes='before_summary_asa',\n",
    "                             filters=\"SPLIT-ACL\").answer() \n",
    "show(answer.frame())"
   ]
  },
  {
   "cell_type": "code",
   "execution_count": null,
   "metadata": {},
   "outputs": [],
   "source": []
  }
 ],
 "metadata": {
  "kernelspec": {
   "display_name": "Python 3",
   "language": "python",
   "name": "python3"
  },
  "language_info": {
   "codemirror_mode": {
    "name": "ipython",
    "version": 3
   },
   "file_extension": ".py",
   "mimetype": "text/x-python",
   "name": "python",
   "nbconvert_exporter": "python",
   "pygments_lexer": "ipython3",
   "version": "3.7.0"
  },
  "varInspector": {
   "cols": {
    "lenName": 16,
    "lenType": 16,
    "lenVar": 40
   },
   "kernels_config": {
    "python": {
     "delete_cmd_postfix": "",
     "delete_cmd_prefix": "del ",
     "library": "var_list.py",
     "varRefreshCmd": "print(var_dic_list())"
    },
    "r": {
     "delete_cmd_postfix": ") ",
     "delete_cmd_prefix": "rm(",
     "library": "var_list.r",
     "varRefreshCmd": "cat(var_dic_list()) "
    }
   },
   "types_to_exclude": [
    "module",
    "function",
    "builtin_function_or_method",
    "instance",
    "_Feature"
   ],
   "window_display": false
  }
 },
 "nbformat": 4,
 "nbformat_minor": 2
}
