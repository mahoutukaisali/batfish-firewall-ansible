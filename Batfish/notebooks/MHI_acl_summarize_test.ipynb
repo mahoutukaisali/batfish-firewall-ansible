{
 "cells": [
  {
   "cell_type": "markdown",
   "metadata": {},
   "source": [
    "<h2>これはASAのACLをテストするためのノートブックです。</h2>\n",
    "始めに、以下のセルでBatfishに対する質問を読み込みます。"
   ]
  },
  {
   "cell_type": "code",
   "execution_count": 1,
   "metadata": {},
   "outputs": [],
   "source": [
    "%run startup.py\n",
    "load_questions()"
   ]
  },
  {
   "cell_type": "markdown",
   "metadata": {},
   "source": [
    "次に、以下のセルでshow running-configファイルが格納されている場所を指定します。"
   ]
  },
  {
   "cell_type": "code",
   "execution_count": 2,
   "metadata": {},
   "outputs": [
    {
     "name": "stderr",
     "output_type": "stream",
     "text": [
      "Your snapshot was successfully initialized but Batfish failed to fully recognized some lines in one or more input files. Some unrecognized configuration lines are not uncommon for new networks, and it is often fine to proceed with further analysis. You can help the Batfish developers improve support for your network by running:\n",
      "\n",
      "    bf_upload_diagnostics(dry_run=False, contact_info='<optional email address>')\n",
      "\n",
      "to share private, anonymized information. For more information, see the documentation with:\n",
      "\n",
      "    help(bf_upload_diagnostics)\n"
     ]
    },
    {
     "data": {
      "text/plain": [
       "'ASA_firewall'"
      ]
     },
     "execution_count": 2,
     "metadata": {},
     "output_type": "execute_result"
    }
   ],
   "source": [
    "# Assign a friendly name to your network and snapshot\n",
    "NETWORK_NAME = \"ASA_acl\"\n",
    "SNAPSHOT_NAME = \"ASA_firewall\"\n",
    "\n",
    "SNAPSHOT_PATH = \"networks/example-filters/mycurrent\"\n",
    "\n",
    "# Now create the network and initialize the snapshot\n",
    "bf_set_network(NETWORK_NAME)\n",
    "bf_init_snapshot(SNAPSHOT_PATH, name=SNAPSHOT_NAME, overwrite=True)"
   ]
  },
  {
   "cell_type": "code",
   "execution_count": 3,
   "metadata": {},
   "outputs": [],
   "source": [
    "parse_status = bfq.fileParseStatus().answer().frame()"
   ]
  },
  {
   "cell_type": "code",
   "execution_count": 4,
   "metadata": {},
   "outputs": [
    {
     "data": {
      "text/html": [
       "<div>\n",
       "<style scoped>\n",
       "    .dataframe tbody tr th:only-of-type {\n",
       "        vertical-align: middle;\n",
       "    }\n",
       "\n",
       "    .dataframe tbody tr th {\n",
       "        vertical-align: top;\n",
       "    }\n",
       "\n",
       "    .dataframe thead th {\n",
       "        text-align: right;\n",
       "    }\n",
       "</style>\n",
       "<table border=\"1\" class=\"dataframe tex2jax_ignore\">\n",
       "  <thead>\n",
       "    <tr style=\"text-align: right;\">\n",
       "      <th></th>\n",
       "      <th>File_Name</th>\n",
       "      <th>Status</th>\n",
       "      <th>Nodes</th>\n",
       "    </tr>\n",
       "  </thead>\n",
       "  <tbody>\n",
       "    <tr>\n",
       "      <th>0</th>\n",
       "      <td>configs/ASA_after_acl_summary.cfg</td>\n",
       "      <td>PARTIALLY_UNRECOGNIZED</td>\n",
       "      <td>['asa_after_acl_summary']</td>\n",
       "    </tr>\n",
       "    <tr>\n",
       "      <th>1</th>\n",
       "      <td>configs/ASA_before_acl_summary.cfg</td>\n",
       "      <td>PARTIALLY_UNRECOGNIZED</td>\n",
       "      <td>['asa_before_acl_summary']</td>\n",
       "    </tr>\n",
       "    <tr>\n",
       "      <th>2</th>\n",
       "      <td>configs/N9kv-1.cfg</td>\n",
       "      <td>PARTIALLY_UNRECOGNIZED</td>\n",
       "      <td>['n9kv-1']</td>\n",
       "    </tr>\n",
       "    <tr>\n",
       "      <th>3</th>\n",
       "      <td>configs/N9kv-2.cfg</td>\n",
       "      <td>PARTIALLY_UNRECOGNIZED</td>\n",
       "      <td>['n9kv-2']</td>\n",
       "    </tr>\n",
       "    <tr>\n",
       "      <th>4</th>\n",
       "      <td>configs/after_summary_asa.cfg</td>\n",
       "      <td>PARTIALLY_UNRECOGNIZED</td>\n",
       "      <td>['after_summary_asa']</td>\n",
       "    </tr>\n",
       "    <tr>\n",
       "      <th>5</th>\n",
       "      <td>configs/before_summary_asa.cfg</td>\n",
       "      <td>PARTIALLY_UNRECOGNIZED</td>\n",
       "      <td>['before_summary_asa']</td>\n",
       "    </tr>\n",
       "    <tr>\n",
       "      <th>6</th>\n",
       "      <td>configs/ciscoasa.cfg</td>\n",
       "      <td>PARTIALLY_UNRECOGNIZED</td>\n",
       "      <td>['ciscoasa']</td>\n",
       "    </tr>\n",
       "  </tbody>\n",
       "</table>\n",
       "</div>"
      ],
      "text/plain": [
       "                            File_Name                  Status  \\\n",
       "0  configs/ASA_after_acl_summary.cfg   PARTIALLY_UNRECOGNIZED   \n",
       "1  configs/ASA_before_acl_summary.cfg  PARTIALLY_UNRECOGNIZED   \n",
       "2  configs/N9kv-1.cfg                  PARTIALLY_UNRECOGNIZED   \n",
       "3  configs/N9kv-2.cfg                  PARTIALLY_UNRECOGNIZED   \n",
       "4  configs/after_summary_asa.cfg       PARTIALLY_UNRECOGNIZED   \n",
       "5  configs/before_summary_asa.cfg      PARTIALLY_UNRECOGNIZED   \n",
       "6  configs/ciscoasa.cfg                PARTIALLY_UNRECOGNIZED   \n",
       "\n",
       "                        Nodes  \n",
       "0  ['asa_after_acl_summary']   \n",
       "1  ['asa_before_acl_summary']  \n",
       "2  ['n9kv-1']                  \n",
       "3  ['n9kv-2']                  \n",
       "4  ['after_summary_asa']       \n",
       "5  ['before_summary_asa']      \n",
       "6  ['ciscoasa']                "
      ]
     },
     "execution_count": 4,
     "metadata": {},
     "output_type": "execute_result"
    }
   ],
   "source": [
    "parse_status"
   ]
  },
  {
   "cell_type": "markdown",
   "metadata": {},
   "source": [
    "<h3>以下のセルでサマライズされる前のアクセスリスト のテストを行います。</h3>"
   ]
  },
  {
   "cell_type": "code",
   "execution_count": 5,
   "metadata": {},
   "outputs": [
    {
     "data": {
      "text/html": [
       "<style  type=\"text/css\" >\n",
       "    #T_pybfstylerow0_col0 {\n",
       "            text-align:  left;\n",
       "            vertical-align:  top;\n",
       "        }    #T_pybfstylerow0_col1 {\n",
       "            text-align:  left;\n",
       "            vertical-align:  top;\n",
       "        }    #T_pybfstylerow0_col2 {\n",
       "            text-align:  left;\n",
       "            vertical-align:  top;\n",
       "        }    #T_pybfstylerow0_col3 {\n",
       "            text-align:  left;\n",
       "            vertical-align:  top;\n",
       "        }    #T_pybfstylerow0_col4 {\n",
       "            text-align:  left;\n",
       "            vertical-align:  top;\n",
       "        }    #T_pybfstylerow0_col5 {\n",
       "            text-align:  left;\n",
       "            vertical-align:  top;\n",
       "        }</style><table id=\"T_pybfstyle\"  class=\"tex2jax_ignore\"><thead>    <tr>        <th class=\"blank level0\" ></th>        <th class=\"col_heading level0 col0\" >Node</th>        <th class=\"col_heading level0 col1\" >Filter_Name</th>        <th class=\"col_heading level0 col2\" >Flow</th>        <th class=\"col_heading level0 col3\" >Action</th>        <th class=\"col_heading level0 col4\" >Line_Content</th>        <th class=\"col_heading level0 col5\" >Trace</th>    </tr></thead><tbody>\n",
       "                <tr>\n",
       "                        <th id=\"T_pybfstylelevel0_row0\" class=\"row_heading level0 row0\" >0</th>\n",
       "                        <td id=\"T_pybfstylerow0_col0\" class=\"data row0 col0\" >asa_before_acl_summary</td>\n",
       "                        <td id=\"T_pybfstylerow0_col1\" class=\"data row0 col1\" >SPLIT-ACL</td>\n",
       "                        <td id=\"T_pybfstylerow0_col2\" class=\"data row0 col2\" >Start Location: asa_before_acl_summary<br>Src IP: 172.20.0.0<br>Src Port: 49152<br>Dst IP: 8.8.8.8<br>Dst Port: 80<br>IP Protocol: TCP</td>\n",
       "                        <td id=\"T_pybfstylerow0_col3\" class=\"data row0 col3\" >DENY</td>\n",
       "                        <td id=\"T_pybfstylerow0_col4\" class=\"data row0 col4\" >no-match</td>\n",
       "                        <td id=\"T_pybfstylerow0_col5\" class=\"data row0 col5\" >AclTrace(events=[AclTraceEvent(class_name=&#x27;org.batfish.datamodel.acl.DefaultDeniedByIpAccessList&#x27;, description=&quot;Flow did not match &#x27;standard ipv4 access-list&#x27; named &#x27;SPLIT-ACL&#x27;&quot;, lineDescription=None)])</td>\n",
       "            </tr>\n",
       "    </tbody></table>"
      ],
      "text/plain": [
       "                     Node Filter_Name  \\\n",
       "0  asa_before_acl_summary  SPLIT-ACL    \n",
       "\n",
       "                                                                         Flow  \\\n",
       "0  start=asa_before_acl_summary [172.20.0.0:49152->8.8.8.8:80 TCP length=512]   \n",
       "\n",
       "  Action Line_Content  \\\n",
       "0  DENY   no-match      \n",
       "\n",
       "                                                              Trace  \n",
       "0  Flow did not match 'standard ipv4 access-list' named 'SPLIT-ACL'  "
      ]
     },
     "metadata": {},
     "output_type": "display_data"
    }
   ],
   "source": [
    "ip_flow = HeaderConstraints(srcIps='172.20.0.21/24',\n",
    "                                              dstIps='8.8.8.8')\n",
    "answer = bfq.testFilters(headers=ip_flow,\n",
    "                         nodes='asa_before_acl_summary',\n",
    "                         filters=\"SPLIT-ACL\").answer() \n",
    "show(answer.frame())"
   ]
  },
  {
   "cell_type": "markdown",
   "metadata": {},
   "source": [
    "<h3>以下のセルでサマライズされた後のアクセスリスト のテストを行います。</h3>\n",
    "サマライズ前後で結果が同じかどうか比較してみてください。"
   ]
  },
  {
   "cell_type": "code",
   "execution_count": 6,
   "metadata": {},
   "outputs": [
    {
     "data": {
      "text/html": [
       "<style  type=\"text/css\" >\n",
       "    #T_pybfstylerow0_col0 {\n",
       "            text-align:  left;\n",
       "            vertical-align:  top;\n",
       "        }    #T_pybfstylerow0_col1 {\n",
       "            text-align:  left;\n",
       "            vertical-align:  top;\n",
       "        }    #T_pybfstylerow0_col2 {\n",
       "            text-align:  left;\n",
       "            vertical-align:  top;\n",
       "        }    #T_pybfstylerow0_col3 {\n",
       "            text-align:  left;\n",
       "            vertical-align:  top;\n",
       "        }    #T_pybfstylerow0_col4 {\n",
       "            text-align:  left;\n",
       "            vertical-align:  top;\n",
       "        }    #T_pybfstylerow0_col5 {\n",
       "            text-align:  left;\n",
       "            vertical-align:  top;\n",
       "        }</style><table id=\"T_pybfstyle\"  class=\"tex2jax_ignore\"><thead>    <tr>        <th class=\"blank level0\" ></th>        <th class=\"col_heading level0 col0\" >Node</th>        <th class=\"col_heading level0 col1\" >Filter_Name</th>        <th class=\"col_heading level0 col2\" >Flow</th>        <th class=\"col_heading level0 col3\" >Action</th>        <th class=\"col_heading level0 col4\" >Line_Content</th>        <th class=\"col_heading level0 col5\" >Trace</th>    </tr></thead><tbody>\n",
       "                <tr>\n",
       "                        <th id=\"T_pybfstylelevel0_row0\" class=\"row_heading level0 row0\" >0</th>\n",
       "                        <td id=\"T_pybfstylerow0_col0\" class=\"data row0 col0\" >asa_after_acl_summary</td>\n",
       "                        <td id=\"T_pybfstylerow0_col1\" class=\"data row0 col1\" >SPLIT-ACL</td>\n",
       "                        <td id=\"T_pybfstylerow0_col2\" class=\"data row0 col2\" >Start Location: asa_after_acl_summary<br>Src IP: 172.20.0.0<br>Src Port: 49152<br>Dst IP: 8.8.8.8<br>Dst Port: 80<br>IP Protocol: TCP</td>\n",
       "                        <td id=\"T_pybfstylerow0_col3\" class=\"data row0 col3\" >DENY</td>\n",
       "                        <td id=\"T_pybfstylerow0_col4\" class=\"data row0 col4\" >no-match</td>\n",
       "                        <td id=\"T_pybfstylerow0_col5\" class=\"data row0 col5\" >AclTrace(events=[AclTraceEvent(class_name=&#x27;org.batfish.datamodel.acl.DefaultDeniedByIpAccessList&#x27;, description=&quot;Flow did not match &#x27;standard ipv4 access-list&#x27; named &#x27;SPLIT-ACL&#x27;&quot;, lineDescription=None)])</td>\n",
       "            </tr>\n",
       "    </tbody></table>"
      ],
      "text/plain": [
       "                    Node Filter_Name  \\\n",
       "0  asa_after_acl_summary  SPLIT-ACL    \n",
       "\n",
       "                                                                        Flow  \\\n",
       "0  start=asa_after_acl_summary [172.20.0.0:49152->8.8.8.8:80 TCP length=512]   \n",
       "\n",
       "  Action Line_Content  \\\n",
       "0  DENY   no-match      \n",
       "\n",
       "                                                              Trace  \n",
       "0  Flow did not match 'standard ipv4 access-list' named 'SPLIT-ACL'  "
      ]
     },
     "metadata": {},
     "output_type": "display_data"
    }
   ],
   "source": [
    "ip_flow = HeaderConstraints(srcIps='172.20.0.21/24',\n",
    "                                              dstIps='8.8.8.8')\n",
    "answer = bfq.testFilters(headers=ip_flow,\n",
    "                         nodes='asa_after_acl_summary',\n",
    "                         filters=\"SPLIT-ACL\").answer() \n",
    "show(answer.frame())"
   ]
  },
  {
   "cell_type": "markdown",
   "metadata": {},
   "source": [
    "<h4>以下のstartLocationとフィルタの引数は、さまざまな概念を簡単に指定できるようにするBatfish指定子を使用しています。 enter（firewall [Ethernet0 / 0/2]）は、テストしたいパケットが 'Ethernet0 / 0/2'（最初のゾーンのインタフェース）を介して 'firewall'に入ることを指定し、outFilterOf（Ethernet0 / 0/3）はそれを指定します。テストしたいフィルタは 'Ethernet0 / 0/3'（2番目のゾーンのインタフェース）のoutフィルタです。</h4>"
   ]
  },
  {
   "cell_type": "code",
   "execution_count": 7,
   "metadata": {},
   "outputs": [
    {
     "ename": "BatfishException",
     "evalue": "Work terminated abnormally\nwork_item: {\"containerName\": \"ASA_acl\", \"id\": \"2c90fbd0-e44d-47dc-9960-41d00da5c1a8\", \"requestParams\": {\"answer\": \"\", \"questionname\": \"__testFilters_39ec51bc-56e5-4023-9e1c-d6d1d6b5932b\", \"testrig\": \"ASA_firewall\"}, \"testrigName\": \"ASA_firewall\"}\n\nlog: Loading configurations for NetworkSnapshot{network=0e1d6b10-953d-4b8b-a366-6fa1697fb04e, snapshot=24852f72-4803-40e4-b049-87642427c750}\nLoading configurations for NetworkSnapshot{network=0e1d6b10-953d-4b8b-a366-6fa1697fb04e, snapshot=24852f72-4803-40e4-b049-87642427c750}\nLoading configurations for NetworkSnapshot{network=0e1d6b10-953d-4b8b-a366-6fa1697fb04e, snapshot=24852f72-4803-40e4-b049-87642427c750}\nLoading configurations for NetworkSnapshot{network=0e1d6b10-953d-4b8b-a366-6fa1697fb04e, snapshot=24852f72-4803-40e4-b049-87642427c750}\nLoading configurations for NetworkSnapshot{network=0e1d6b10-953d-4b8b-a366-6fa1697fb04e, snapshot=24852f72-4803-40e4-b049-87642427c750}\nLoading configurations for NetworkSnapshot{network=0e1d6b10-953d-4b8b-a366-6fa1697fb04e, snapshot=24852f72-4803-40e4-b049-87642427c750}\nLoading configurations for NetworkSnapshot{network=0e1d6b10-953d-4b8b-a366-6fa1697fb04e, snapshot=24852f72-4803-40e4-b049-87642427c750}\nLoading configurations for NetworkSnapshot{network=0e1d6b10-953d-4b8b-a366-6fa1697fb04e, snapshot=24852f72-4803-40e4-b049-87642427c750}\nLoading configurations for NetworkSnapshot{network=0e1d6b10-953d-4b8b-a366-6fa1697fb04e, snapshot=24852f72-4803-40e4-b049-87642427c750}\nLoading configurations for NetworkSnapshot{network=0e1d6b10-953d-4b8b-a366-6fa1697fb04e, snapshot=24852f72-4803-40e4-b049-87642427c750}\nLoading configurations for NetworkSnapshot{network=0e1d6b10-953d-4b8b-a366-6fa1697fb04e, snapshot=24852f72-4803-40e4-b049-87642427c750}\nLoading configurations for NetworkSnapshot{network=0e1d6b10-953d-4b8b-a366-6fa1697fb04e, snapshot=24852f72-4803-40e4-b049-87642427c750}\nLoading configurations for NetworkSnapshot{network=0e1d6b10-953d-4b8b-a366-6fa1697fb04e, snapshot=24852f72-4803-40e4-b049-87642427c750}\nLoading configurations for NetworkSnapshot{network=0e1d6b10-953d-4b8b-a366-6fa1697fb04e, snapshot=24852f72-4803-40e4-b049-87642427c750}\nLoading configurations for NetworkSnapshot{network=0e1d6b10-953d-4b8b-a366-6fa1697fb04e, snapshot=24852f72-4803-40e4-b049-87642427c750}\nLoading configurations for NetworkSnapshot{network=0e1d6b10-953d-4b8b-a366-6fa1697fb04e, snapshot=24852f72-4803-40e4-b049-87642427c750}\nLoading configurations for NetworkSnapshot{network=0e1d6b10-953d-4b8b-a366-6fa1697fb04e, snapshot=24852f72-4803-40e4-b049-87642427c750}\nLoading configurations for NetworkSnapshot{network=0e1d6b10-953d-4b8b-a366-6fa1697fb04e, snapshot=24852f72-4803-40e4-b049-87642427c750}\nLoading configurations for NetworkSnapshot{network=0e1d6b10-953d-4b8b-a366-6fa1697fb04e, snapshot=24852f72-4803-40e4-b049-87642427c750}\nException in container:0e1d6b10-953d-4b8b-a366-6fa1697fb04e, testrig:24852f72-4803-40e4-b049-87642427c750; exception:org.batfish.common.QuestionException: Exception answering question\n\tat org.batfish.datamodel.answers.Answer.append(Answer.java:46)\n\tat org.batfish.main.Batfish.run(Batfish.java:2347)\n\tat org.batfish.main.Driver.lambda$runBatfish$3(Driver.java:570)\n\tat java.lang.Thread.run(Thread.java:748)\nCaused by: org.batfish.common.BatfishException: Failed to answer question\n\tat org.batfish.main.Batfish.answer(Batfish.java:642)\n\t... 3 more\nCaused by: org.batfish.common.BatfishException: No matching filters\n\tat org.batfish.question.testfilters.TestFiltersAnswerer.getRows(TestFiltersAnswerer.java:236)\n\tat org.batfish.question.testfilters.TestFiltersAnswerer.answer(TestFiltersAnswerer.java:121)\n\tat org.batfish.question.testfilters.TestFiltersAnswerer.answer(TestFiltersAnswerer.java:57)\n\tat org.batfish.main.Batfish.answer(Batfish.java:639)\n\t... 3 more\n{\"answerElements\":[{\"class\":\"org.batfish.common.BatfishException$BatfishStackTrace\",\"answer\":[\"org.batfish.common.BatfishException: Failed to answer question\",\"   at org.batfish.main.Batfish.answer(Batfish.java:642)\",\"   at org.batfish.main.Batfish.run(Batfish.java:2347)\",\"   at org.batfish.main.Driver.lambda$runBatfish$3(Driver.java:570)\",\"   at java.lang.Thread.run(Thread.java:748)\",\"Caused by: org.batfish.common.BatfishException: No matching filters\",\"   at org.batfish.question.testfilters.TestFiltersAnswerer.getRows(TestFiltersAnswerer.java:236)\",\"   at org.batfish.question.testfilters.TestFiltersAnswerer.answer(TestFiltersAnswerer.java:121)\",\"   at org.batfish.question.testfilters.TestFiltersAnswerer.answer(TestFiltersAnswerer.java:57)\",\"   at org.batfish.main.Batfish.answer(Batfish.java:639)\",\"   ... 3 more\",\"\"]}],\"question\":{\"class\":\"org.batfish.question.testfilters.TestFiltersQuestion\",\"filters\":\"@out(GigabitEthernet0/0/3)\",\"headers\":{\"applications\":[\"http\"],\"dstIps\":\"10.114.60.10\",\"srcIps\":\"10.114.64.1\"},\"nodes\":\".*\",\"startLocation\":\"@enter(firewall[GigabitEthernet0/0/2])\",\"differential\":false,\"includeOneTableKeys\":true,\"instance\":{\"description\":\"Returns how a flow is processed by a filter (ACLs, firewall rules).\",\"instanceName\":\"__testFilters_39ec51bc-56e5-4023-9e1c-d6d1d6b5932b\",\"longDescription\":\"Shows how the specified flow is processed through the specified filters, returning its permit/deny status as well as the line(s) it matched.\",\"tags\":[\"acl\"],\"variables\":{\"filters\":{\"description\":\"Only consider filters that match this specifier.\",\"displayName\":\"Filters\",\"optional\":false,\"type\":\"filterSpec\",\"value\":\"@out(GigabitEthernet0/0/3)\"},\"headers\":{\"description\":\"Packet header constraints.\",\"displayName\":\"Headers\",\"fields\":{\"applications\":{\"optional\":true,\"type\":\"applicationSpec\"},\"dscps\":{\"optional\":true},\"dstIps\":{\"optional\":false,\"type\":\"ipSpaceSpec\"},\"dstPorts\":{\"optional\":true},\"ecns\":{\"optional\":true},\"flowStates\":{\"optional\":true},\"fragmentOffsets\":{\"optional\":true},\"icmpCodes\":{\"optional\":true},\"icmpTypes\":{\"optional\":true},\"ipProtocols\":{\"optional\":true,\"type\":\"ipProtocolSpec\"},\"packetLengths\":{\"optional\":true},\"srcIps\":{\"optional\":true,\"type\":\"ipSpaceSpec\"},\"srcPorts\":{\"optional\":true},\"tcpFlags\":{\"optional\":true}},\"optional\":false,\"type\":\"headerConstraint\",\"value\":{\"applications\":[\"http\"],\"dscps\":null,\"dstIps\":\"10.114.60.10\",\"dstPorts\":null,\"ecns\":null,\"flowStates\":null,\"fragmentOffsets\":null,\"icmpCodes\":null,\"icmpTypes\":null,\"ipProtocols\":null,\"packetLengths\":null,\"srcIps\":\"10.114.64.1\",\"srcPorts\":null,\"tcpFlags\":null}},\"nodes\":{\"description\":\"Only examine filters on nodes matching this specifier.\",\"displayName\":\"Nodes\",\"optional\":false,\"type\":\"nodeSpec\",\"value\":\".*\"},\"startLocation\":{\"description\":\"Location to start tracing from.\",\"displayName\":\"Start Location\",\"minLength\":1,\"optional\":true,\"type\":\"string\",\"value\":\"@enter(firewall[GigabitEthernet0/0/2])\"}}}},\"status\":\"FAILURE\",\"summary\":{\"numFailed\":0,\"numPassed\":0,\"numResults\":0}}",
     "output_type": "error",
     "traceback": [
      "\u001b[0;31m---------------------------------------------------------------------------\u001b[0m",
      "\u001b[0;31mBatfishException\u001b[0m                          Traceback (most recent call last)",
      "\u001b[0;32m<ipython-input-7-c8eddc144bbf>\u001b[0m in \u001b[0;36m<module>\u001b[0;34m\u001b[0m\n\u001b[1;32m      5\u001b[0m answer = bfq.testFilters(headers=http_flow,\n\u001b[1;32m      6\u001b[0m                          \u001b[0mstartLocation\u001b[0m\u001b[0;34m=\u001b[0m\u001b[0;34m\"@enter(firewall[GigabitEthernet0/0/2])\"\u001b[0m\u001b[0;34m,\u001b[0m\u001b[0;34m\u001b[0m\u001b[0m\n\u001b[0;32m----> 7\u001b[0;31m                          filters=\"@out(GigabitEthernet0/0/3)\").answer()\n\u001b[0m\u001b[1;32m      8\u001b[0m \u001b[0mshow\u001b[0m\u001b[0;34m(\u001b[0m\u001b[0manswer\u001b[0m\u001b[0;34m.\u001b[0m\u001b[0mframe\u001b[0m\u001b[0;34m(\u001b[0m\u001b[0;34m)\u001b[0m\u001b[0;34m)\u001b[0m\u001b[0;34m\u001b[0m\u001b[0m\n",
      "\u001b[0;32m~/python3/network_with_python/Batfish/Batfish/notebooks/pybatfish/question/question.py\u001b[0m in \u001b[0;36manswer\u001b[0;34m(self, snapshot, reference_snapshot, include_one_table_keys, background, extra_args)\u001b[0m\n\u001b[1;32m    184\u001b[0m                               \u001b[0msnapshot\u001b[0m\u001b[0;34m=\u001b[0m\u001b[0mreal_snapshot\u001b[0m\u001b[0;34m,\u001b[0m\u001b[0;34m\u001b[0m\u001b[0m\n\u001b[1;32m    185\u001b[0m                               \u001b[0mreference_snapshot\u001b[0m\u001b[0;34m=\u001b[0m\u001b[0mreference_snapshot\u001b[0m\u001b[0;34m,\u001b[0m\u001b[0;34m\u001b[0m\u001b[0m\n\u001b[0;32m--> 186\u001b[0;31m                               extra_args=extra_args)\n\u001b[0m\u001b[1;32m    187\u001b[0m \u001b[0;34m\u001b[0m\u001b[0m\n\u001b[1;32m    188\u001b[0m     \u001b[0;32mdef\u001b[0m \u001b[0mdict\u001b[0m\u001b[0;34m(\u001b[0m\u001b[0mself\u001b[0m\u001b[0;34m)\u001b[0m\u001b[0;34m:\u001b[0m\u001b[0;34m\u001b[0m\u001b[0m\n",
      "\u001b[0;32m~/python3/network_with_python/Batfish/Batfish/notebooks/pybatfish/client/internal.py\u001b[0m in \u001b[0;36m_bf_answer_obj\u001b[0;34m(session, question_str, parameters_str, question_name, background, snapshot, reference_snapshot, extra_args)\u001b[0m\n\u001b[1;32m     46\u001b[0m     work_item = workhelper.get_workitem_answer(session, question_name,\n\u001b[1;32m     47\u001b[0m                                                snapshot, reference_snapshot)\n\u001b[0;32m---> 48\u001b[0;31m     \u001b[0mworkhelper\u001b[0m\u001b[0;34m.\u001b[0m\u001b[0mexecute\u001b[0m\u001b[0;34m(\u001b[0m\u001b[0mwork_item\u001b[0m\u001b[0;34m,\u001b[0m \u001b[0msession\u001b[0m\u001b[0;34m,\u001b[0m \u001b[0mbackground\u001b[0m\u001b[0;34m,\u001b[0m \u001b[0mextra_args\u001b[0m\u001b[0;34m)\u001b[0m\u001b[0;34m\u001b[0m\u001b[0m\n\u001b[0m\u001b[1;32m     49\u001b[0m \u001b[0;34m\u001b[0m\u001b[0m\n\u001b[1;32m     50\u001b[0m     \u001b[0;32mif\u001b[0m \u001b[0mbackground\u001b[0m\u001b[0;34m:\u001b[0m\u001b[0;34m\u001b[0m\u001b[0m\n",
      "\u001b[0;32m~/python3/network_with_python/Batfish/Batfish/notebooks/pybatfish/client/workhelper.py\u001b[0m in \u001b[0;36mexecute\u001b[0;34m(work_item, session, background, extra_args)\u001b[0m\n\u001b[1;32m    152\u001b[0m                     \u001b[0mmsg\u001b[0m\u001b[0;34m=\u001b[0m\u001b[0mlog_file_msg\u001b[0m\u001b[0;34m,\u001b[0m\u001b[0;34m\u001b[0m\u001b[0m\n\u001b[1;32m    153\u001b[0m                     \u001b[0mlog\u001b[0m\u001b[0;34m=\u001b[0m\u001b[0mlog\u001b[0m\u001b[0;34m[\u001b[0m\u001b[0;34m-\u001b[0m\u001b[0mMAX_LOG_LENGTH\u001b[0m\u001b[0;34m:\u001b[0m\u001b[0;34m]\u001b[0m\u001b[0;34m,\u001b[0m\u001b[0;34m\u001b[0m\u001b[0m\n\u001b[0;32m--> 154\u001b[0;31m                     prefix=\"...\" if log_file_msg else \"\"))\n\u001b[0m\u001b[1;32m    155\u001b[0m \u001b[0;34m\u001b[0m\u001b[0m\n\u001b[1;32m    156\u001b[0m         \u001b[0;32mreturn\u001b[0m \u001b[0;34m{\u001b[0m\u001b[0;34m\"status\"\u001b[0m\u001b[0;34m:\u001b[0m \u001b[0mstatus\u001b[0m\u001b[0;34m}\u001b[0m\u001b[0;34m\u001b[0m\u001b[0m\n",
      "\u001b[0;31mBatfishException\u001b[0m: Work terminated abnormally\nwork_item: {\"containerName\": \"ASA_acl\", \"id\": \"2c90fbd0-e44d-47dc-9960-41d00da5c1a8\", \"requestParams\": {\"answer\": \"\", \"questionname\": \"__testFilters_39ec51bc-56e5-4023-9e1c-d6d1d6b5932b\", \"testrig\": \"ASA_firewall\"}, \"testrigName\": \"ASA_firewall\"}\n\nlog: Loading configurations for NetworkSnapshot{network=0e1d6b10-953d-4b8b-a366-6fa1697fb04e, snapshot=24852f72-4803-40e4-b049-87642427c750}\nLoading configurations for NetworkSnapshot{network=0e1d6b10-953d-4b8b-a366-6fa1697fb04e, snapshot=24852f72-4803-40e4-b049-87642427c750}\nLoading configurations for NetworkSnapshot{network=0e1d6b10-953d-4b8b-a366-6fa1697fb04e, snapshot=24852f72-4803-40e4-b049-87642427c750}\nLoading configurations for NetworkSnapshot{network=0e1d6b10-953d-4b8b-a366-6fa1697fb04e, snapshot=24852f72-4803-40e4-b049-87642427c750}\nLoading configurations for NetworkSnapshot{network=0e1d6b10-953d-4b8b-a366-6fa1697fb04e, snapshot=24852f72-4803-40e4-b049-87642427c750}\nLoading configurations for NetworkSnapshot{network=0e1d6b10-953d-4b8b-a366-6fa1697fb04e, snapshot=24852f72-4803-40e4-b049-87642427c750}\nLoading configurations for NetworkSnapshot{network=0e1d6b10-953d-4b8b-a366-6fa1697fb04e, snapshot=24852f72-4803-40e4-b049-87642427c750}\nLoading configurations for NetworkSnapshot{network=0e1d6b10-953d-4b8b-a366-6fa1697fb04e, snapshot=24852f72-4803-40e4-b049-87642427c750}\nLoading configurations for NetworkSnapshot{network=0e1d6b10-953d-4b8b-a366-6fa1697fb04e, snapshot=24852f72-4803-40e4-b049-87642427c750}\nLoading configurations for NetworkSnapshot{network=0e1d6b10-953d-4b8b-a366-6fa1697fb04e, snapshot=24852f72-4803-40e4-b049-87642427c750}\nLoading configurations for NetworkSnapshot{network=0e1d6b10-953d-4b8b-a366-6fa1697fb04e, snapshot=24852f72-4803-40e4-b049-87642427c750}\nLoading configurations for NetworkSnapshot{network=0e1d6b10-953d-4b8b-a366-6fa1697fb04e, snapshot=24852f72-4803-40e4-b049-87642427c750}\nLoading configurations for NetworkSnapshot{network=0e1d6b10-953d-4b8b-a366-6fa1697fb04e, snapshot=24852f72-4803-40e4-b049-87642427c750}\nLoading configurations for NetworkSnapshot{network=0e1d6b10-953d-4b8b-a366-6fa1697fb04e, snapshot=24852f72-4803-40e4-b049-87642427c750}\nLoading configurations for NetworkSnapshot{network=0e1d6b10-953d-4b8b-a366-6fa1697fb04e, snapshot=24852f72-4803-40e4-b049-87642427c750}\nLoading configurations for NetworkSnapshot{network=0e1d6b10-953d-4b8b-a366-6fa1697fb04e, snapshot=24852f72-4803-40e4-b049-87642427c750}\nLoading configurations for NetworkSnapshot{network=0e1d6b10-953d-4b8b-a366-6fa1697fb04e, snapshot=24852f72-4803-40e4-b049-87642427c750}\nLoading configurations for NetworkSnapshot{network=0e1d6b10-953d-4b8b-a366-6fa1697fb04e, snapshot=24852f72-4803-40e4-b049-87642427c750}\nLoading configurations for NetworkSnapshot{network=0e1d6b10-953d-4b8b-a366-6fa1697fb04e, snapshot=24852f72-4803-40e4-b049-87642427c750}\nException in container:0e1d6b10-953d-4b8b-a366-6fa1697fb04e, testrig:24852f72-4803-40e4-b049-87642427c750; exception:org.batfish.common.QuestionException: Exception answering question\n\tat org.batfish.datamodel.answers.Answer.append(Answer.java:46)\n\tat org.batfish.main.Batfish.run(Batfish.java:2347)\n\tat org.batfish.main.Driver.lambda$runBatfish$3(Driver.java:570)\n\tat java.lang.Thread.run(Thread.java:748)\nCaused by: org.batfish.common.BatfishException: Failed to answer question\n\tat org.batfish.main.Batfish.answer(Batfish.java:642)\n\t... 3 more\nCaused by: org.batfish.common.BatfishException: No matching filters\n\tat org.batfish.question.testfilters.TestFiltersAnswerer.getRows(TestFiltersAnswerer.java:236)\n\tat org.batfish.question.testfilters.TestFiltersAnswerer.answer(TestFiltersAnswerer.java:121)\n\tat org.batfish.question.testfilters.TestFiltersAnswerer.answer(TestFiltersAnswerer.java:57)\n\tat org.batfish.main.Batfish.answer(Batfish.java:639)\n\t... 3 more\n{\"answerElements\":[{\"class\":\"org.batfish.common.BatfishException$BatfishStackTrace\",\"answer\":[\"org.batfish.common.BatfishException: Failed to answer question\",\"   at org.batfish.main.Batfish.answer(Batfish.java:642)\",\"   at org.batfish.main.Batfish.run(Batfish.java:2347)\",\"   at org.batfish.main.Driver.lambda$runBatfish$3(Driver.java:570)\",\"   at java.lang.Thread.run(Thread.java:748)\",\"Caused by: org.batfish.common.BatfishException: No matching filters\",\"   at org.batfish.question.testfilters.TestFiltersAnswerer.getRows(TestFiltersAnswerer.java:236)\",\"   at org.batfish.question.testfilters.TestFiltersAnswerer.answer(TestFiltersAnswerer.java:121)\",\"   at org.batfish.question.testfilters.TestFiltersAnswerer.answer(TestFiltersAnswerer.java:57)\",\"   at org.batfish.main.Batfish.answer(Batfish.java:639)\",\"   ... 3 more\",\"\"]}],\"question\":{\"class\":\"org.batfish.question.testfilters.TestFiltersQuestion\",\"filters\":\"@out(GigabitEthernet0/0/3)\",\"headers\":{\"applications\":[\"http\"],\"dstIps\":\"10.114.60.10\",\"srcIps\":\"10.114.64.1\"},\"nodes\":\".*\",\"startLocation\":\"@enter(firewall[GigabitEthernet0/0/2])\",\"differential\":false,\"includeOneTableKeys\":true,\"instance\":{\"description\":\"Returns how a flow is processed by a filter (ACLs, firewall rules).\",\"instanceName\":\"__testFilters_39ec51bc-56e5-4023-9e1c-d6d1d6b5932b\",\"longDescription\":\"Shows how the specified flow is processed through the specified filters, returning its permit/deny status as well as the line(s) it matched.\",\"tags\":[\"acl\"],\"variables\":{\"filters\":{\"description\":\"Only consider filters that match this specifier.\",\"displayName\":\"Filters\",\"optional\":false,\"type\":\"filterSpec\",\"value\":\"@out(GigabitEthernet0/0/3)\"},\"headers\":{\"description\":\"Packet header constraints.\",\"displayName\":\"Headers\",\"fields\":{\"applications\":{\"optional\":true,\"type\":\"applicationSpec\"},\"dscps\":{\"optional\":true},\"dstIps\":{\"optional\":false,\"type\":\"ipSpaceSpec\"},\"dstPorts\":{\"optional\":true},\"ecns\":{\"optional\":true},\"flowStates\":{\"optional\":true},\"fragmentOffsets\":{\"optional\":true},\"icmpCodes\":{\"optional\":true},\"icmpTypes\":{\"optional\":true},\"ipProtocols\":{\"optional\":true,\"type\":\"ipProtocolSpec\"},\"packetLengths\":{\"optional\":true},\"srcIps\":{\"optional\":true,\"type\":\"ipSpaceSpec\"},\"srcPorts\":{\"optional\":true},\"tcpFlags\":{\"optional\":true}},\"optional\":false,\"type\":\"headerConstraint\",\"value\":{\"applications\":[\"http\"],\"dscps\":null,\"dstIps\":\"10.114.60.10\",\"dstPorts\":null,\"ecns\":null,\"flowStates\":null,\"fragmentOffsets\":null,\"icmpCodes\":null,\"icmpTypes\":null,\"ipProtocols\":null,\"packetLengths\":null,\"srcIps\":\"10.114.64.1\",\"srcPorts\":null,\"tcpFlags\":null}},\"nodes\":{\"description\":\"Only examine filters on nodes matching this specifier.\",\"displayName\":\"Nodes\",\"optional\":false,\"type\":\"nodeSpec\",\"value\":\".*\"},\"startLocation\":{\"description\":\"Location to start tracing from.\",\"displayName\":\"Start Location\",\"minLength\":1,\"optional\":true,\"type\":\"string\",\"value\":\"@enter(firewall[GigabitEthernet0/0/2])\"}}}},\"status\":\"FAILURE\",\"summary\":{\"numFailed\":0,\"numPassed\":0,\"numResults\":0}}"
     ]
    }
   ],
   "source": [
    "# Test if a host can reach the DNS server\n",
    "http_flow = HeaderConstraints(srcIps=\"10.114.64.1\",\n",
    "                              dstIps=\"10.114.60.10\",\n",
    "                              applications=[\"http\"])\n",
    "answer = bfq.testFilters(headers=http_flow,\n",
    "                         startLocation=\"@enter(firewall[GigabitEthernet0/0/2])\",\n",
    "                         filters=\"@out(GigabitEthernet0/0/3)\").answer()\n",
    "show(answer.frame())"
   ]
  },
  {
   "cell_type": "code",
   "execution_count": null,
   "metadata": {},
   "outputs": [],
   "source": []
  }
 ],
 "metadata": {
  "kernelspec": {
   "display_name": "Python 3",
   "language": "python",
   "name": "python3"
  },
  "language_info": {
   "codemirror_mode": {
    "name": "ipython",
    "version": 3
   },
   "file_extension": ".py",
   "mimetype": "text/x-python",
   "name": "python",
   "nbconvert_exporter": "python",
   "pygments_lexer": "ipython3",
   "version": "3.7.0"
  }
 },
 "nbformat": 4,
 "nbformat_minor": 2
}
