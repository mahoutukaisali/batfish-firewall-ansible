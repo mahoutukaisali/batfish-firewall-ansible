{
 "cells": [
  {
   "cell_type": "markdown",
   "metadata": {},
   "source": [
    "<h2>これはASAのACLをテストするためのノートブックです。</h2>\n",
    "始めに、以下のセルでBatfishに対する質問を読み込みます。"
   ]
  },
  {
   "cell_type": "code",
   "execution_count": 2,
   "metadata": {},
   "outputs": [],
   "source": [
    "%run startup.py\n",
    "load_questions()"
   ]
  },
  {
   "cell_type": "markdown",
   "metadata": {},
   "source": [
    "次に、以下のセルでshow running-configファイルが格納されている場所を指定します。"
   ]
  },
  {
   "cell_type": "code",
   "execution_count": 3,
   "metadata": {},
   "outputs": [
    {
     "name": "stderr",
     "output_type": "stream",
     "text": [
      "Your snapshot was successfully initialized but Batfish failed to fully recognized some lines in one or more input files. Some unrecognized configuration lines are not uncommon for new networks, and it is often fine to proceed with further analysis. You can help the Batfish developers improve support for your network by running:\n",
      "\n",
      "    bf_upload_diagnostics(dry_run=False, contact_info='<optional email address>')\n",
      "\n",
      "to share private, anonymized information. For more information, see the documentation with:\n",
      "\n",
      "    help(bf_upload_diagnostics)\n"
     ]
    },
    {
     "data": {
      "text/plain": [
       "'ASA_firewall'"
      ]
     },
     "execution_count": 3,
     "metadata": {},
     "output_type": "execute_result"
    }
   ],
   "source": [
    "# Assign a friendly name to your network and snapshot\n",
    "NETWORK_NAME = \"ASA_acl\"\n",
    "SNAPSHOT_NAME = \"ASA_firewall\"\n",
    "\n",
    "SNAPSHOT_PATH = \"networks/example-filters/mycurrent\"\n",
    "\n",
    "# Now create the network and initialize the snapshot\n",
    "bf_set_network(NETWORK_NAME)\n",
    "bf_init_snapshot(SNAPSHOT_PATH, name=SNAPSHOT_NAME, overwrite=True)"
   ]
  },
  {
   "cell_type": "code",
   "execution_count": 3,
   "metadata": {},
   "outputs": [],
   "source": [
    "parse_status = bfq.fileParseStatus().answer().frame()"
   ]
  },
  {
   "cell_type": "code",
   "execution_count": 4,
   "metadata": {},
   "outputs": [
    {
     "data": {
      "text/html": [
       "<div>\n",
       "<style scoped>\n",
       "    .dataframe tbody tr th:only-of-type {\n",
       "        vertical-align: middle;\n",
       "    }\n",
       "\n",
       "    .dataframe tbody tr th {\n",
       "        vertical-align: top;\n",
       "    }\n",
       "\n",
       "    .dataframe thead th {\n",
       "        text-align: right;\n",
       "    }\n",
       "</style>\n",
       "<table border=\"1\" class=\"dataframe tex2jax_ignore\">\n",
       "  <thead>\n",
       "    <tr style=\"text-align: right;\">\n",
       "      <th></th>\n",
       "      <th>File_Name</th>\n",
       "      <th>Status</th>\n",
       "      <th>Nodes</th>\n",
       "    </tr>\n",
       "  </thead>\n",
       "  <tbody>\n",
       "    <tr>\n",
       "      <th>0</th>\n",
       "      <td>configs/ASA_after_acl_summary.cfg</td>\n",
       "      <td>PARTIALLY_UNRECOGNIZED</td>\n",
       "      <td>['asa_after_acl_summary']</td>\n",
       "    </tr>\n",
       "    <tr>\n",
       "      <th>1</th>\n",
       "      <td>configs/ASA_before_acl_summary.cfg</td>\n",
       "      <td>PARTIALLY_UNRECOGNIZED</td>\n",
       "      <td>['asa_before_acl_summary']</td>\n",
       "    </tr>\n",
       "    <tr>\n",
       "      <th>2</th>\n",
       "      <td>configs/N9kv-1.cfg</td>\n",
       "      <td>PARTIALLY_UNRECOGNIZED</td>\n",
       "      <td>['n9kv-1']</td>\n",
       "    </tr>\n",
       "    <tr>\n",
       "      <th>3</th>\n",
       "      <td>configs/N9kv-2.cfg</td>\n",
       "      <td>PARTIALLY_UNRECOGNIZED</td>\n",
       "      <td>['n9kv-2']</td>\n",
       "    </tr>\n",
       "    <tr>\n",
       "      <th>4</th>\n",
       "      <td>configs/after_summary_asa.cfg</td>\n",
       "      <td>PARTIALLY_UNRECOGNIZED</td>\n",
       "      <td>['after_summary_asa']</td>\n",
       "    </tr>\n",
       "    <tr>\n",
       "      <th>5</th>\n",
       "      <td>configs/before_summary_asa.cfg</td>\n",
       "      <td>PARTIALLY_UNRECOGNIZED</td>\n",
       "      <td>['before_summary_asa']</td>\n",
       "    </tr>\n",
       "    <tr>\n",
       "      <th>6</th>\n",
       "      <td>configs/ciscoasa.cfg</td>\n",
       "      <td>PARTIALLY_UNRECOGNIZED</td>\n",
       "      <td>['ciscoasa']</td>\n",
       "    </tr>\n",
       "  </tbody>\n",
       "</table>\n",
       "</div>"
      ],
      "text/plain": [
       "                            File_Name                  Status  \\\n",
       "0  configs/ASA_after_acl_summary.cfg   PARTIALLY_UNRECOGNIZED   \n",
       "1  configs/ASA_before_acl_summary.cfg  PARTIALLY_UNRECOGNIZED   \n",
       "2  configs/N9kv-1.cfg                  PARTIALLY_UNRECOGNIZED   \n",
       "3  configs/N9kv-2.cfg                  PARTIALLY_UNRECOGNIZED   \n",
       "4  configs/after_summary_asa.cfg       PARTIALLY_UNRECOGNIZED   \n",
       "5  configs/before_summary_asa.cfg      PARTIALLY_UNRECOGNIZED   \n",
       "6  configs/ciscoasa.cfg                PARTIALLY_UNRECOGNIZED   \n",
       "\n",
       "                        Nodes  \n",
       "0  ['asa_after_acl_summary']   \n",
       "1  ['asa_before_acl_summary']  \n",
       "2  ['n9kv-1']                  \n",
       "3  ['n9kv-2']                  \n",
       "4  ['after_summary_asa']       \n",
       "5  ['before_summary_asa']      \n",
       "6  ['ciscoasa']                "
      ]
     },
     "execution_count": 4,
     "metadata": {},
     "output_type": "execute_result"
    }
   ],
   "source": [
    "parse_status"
   ]
  },
  {
   "cell_type": "markdown",
   "metadata": {},
   "source": [
    "<h3>以下のセルでサマライズされる前のアクセスリスト のテストを行います。</h3>"
   ]
  },
  {
   "cell_type": "code",
   "execution_count": 4,
   "metadata": {},
   "outputs": [
    {
     "data": {
      "text/html": [
       "<style  type=\"text/css\" >\n",
       "    #T_pybfstylerow0_col0 {\n",
       "            text-align:  left;\n",
       "            vertical-align:  top;\n",
       "        }    #T_pybfstylerow0_col1 {\n",
       "            text-align:  left;\n",
       "            vertical-align:  top;\n",
       "        }    #T_pybfstylerow0_col2 {\n",
       "            text-align:  left;\n",
       "            vertical-align:  top;\n",
       "        }    #T_pybfstylerow0_col3 {\n",
       "            text-align:  left;\n",
       "            vertical-align:  top;\n",
       "        }    #T_pybfstylerow0_col4 {\n",
       "            text-align:  left;\n",
       "            vertical-align:  top;\n",
       "        }    #T_pybfstylerow0_col5 {\n",
       "            text-align:  left;\n",
       "            vertical-align:  top;\n",
       "        }</style><table id=\"T_pybfstyle\"  class=\"tex2jax_ignore\"><thead>    <tr>        <th class=\"blank level0\" ></th>        <th class=\"col_heading level0 col0\" >Node</th>        <th class=\"col_heading level0 col1\" >Filter_Name</th>        <th class=\"col_heading level0 col2\" >Flow</th>        <th class=\"col_heading level0 col3\" >Action</th>        <th class=\"col_heading level0 col4\" >Line_Content</th>        <th class=\"col_heading level0 col5\" >Trace</th>    </tr></thead><tbody>\n",
       "                <tr>\n",
       "                        <th id=\"T_pybfstylelevel0_row0\" class=\"row_heading level0 row0\" >0</th>\n",
       "                        <td id=\"T_pybfstylerow0_col0\" class=\"data row0 col0\" >asa_before_acl_summary</td>\n",
       "                        <td id=\"T_pybfstylerow0_col1\" class=\"data row0 col1\" >SPLIT-ACL</td>\n",
       "                        <td id=\"T_pybfstylerow0_col2\" class=\"data row0 col2\" >Start Location: asa_before_acl_summary<br>Src IP: 172.20.0.0<br>Src Port: 49152<br>Dst IP: 0.0.0.0<br>Dst Port: 80<br>IP Protocol: TCP</td>\n",
       "                        <td id=\"T_pybfstylerow0_col3\" class=\"data row0 col3\" >DENY</td>\n",
       "                        <td id=\"T_pybfstylerow0_col4\" class=\"data row0 col4\" >no-match</td>\n",
       "                        <td id=\"T_pybfstylerow0_col5\" class=\"data row0 col5\" >AclTrace(events=[AclTraceEvent(class_name=&#x27;org.batfish.datamodel.acl.DefaultDeniedByIpAccessList&#x27;, description=&quot;Flow did not match &#x27;standard ipv4 access-list&#x27; named &#x27;SPLIT-ACL&#x27;&quot;, lineDescription=None)])</td>\n",
       "            </tr>\n",
       "    </tbody></table>"
      ],
      "text/plain": [
       "                     Node Filter_Name  \\\n",
       "0  asa_before_acl_summary  SPLIT-ACL    \n",
       "\n",
       "                                                                         Flow  \\\n",
       "0  start=asa_before_acl_summary [172.20.0.0:49152->0.0.0.0:80 TCP length=512]   \n",
       "\n",
       "  Action Line_Content  \\\n",
       "0  DENY   no-match      \n",
       "\n",
       "                                                              Trace  \n",
       "0  Flow did not match 'standard ipv4 access-list' named 'SPLIT-ACL'  "
      ]
     },
     "metadata": {},
     "output_type": "display_data"
    },
    {
     "data": {
      "text/html": [
       "<style  type=\"text/css\" >\n",
       "    #T_pybfstylerow0_col0 {\n",
       "            text-align:  left;\n",
       "            vertical-align:  top;\n",
       "        }    #T_pybfstylerow0_col1 {\n",
       "            text-align:  left;\n",
       "            vertical-align:  top;\n",
       "        }    #T_pybfstylerow0_col2 {\n",
       "            text-align:  left;\n",
       "            vertical-align:  top;\n",
       "        }    #T_pybfstylerow0_col3 {\n",
       "            text-align:  left;\n",
       "            vertical-align:  top;\n",
       "        }    #T_pybfstylerow0_col4 {\n",
       "            text-align:  left;\n",
       "            vertical-align:  top;\n",
       "        }    #T_pybfstylerow0_col5 {\n",
       "            text-align:  left;\n",
       "            vertical-align:  top;\n",
       "        }</style><table id=\"T_pybfstyle\"  class=\"tex2jax_ignore\"><thead>    <tr>        <th class=\"blank level0\" ></th>        <th class=\"col_heading level0 col0\" >Node</th>        <th class=\"col_heading level0 col1\" >Filter_Name</th>        <th class=\"col_heading level0 col2\" >Flow</th>        <th class=\"col_heading level0 col3\" >Action</th>        <th class=\"col_heading level0 col4\" >Line_Content</th>        <th class=\"col_heading level0 col5\" >Trace</th>    </tr></thead><tbody>\n",
       "                <tr>\n",
       "                        <th id=\"T_pybfstylelevel0_row0\" class=\"row_heading level0 row0\" >0</th>\n",
       "                        <td id=\"T_pybfstylerow0_col0\" class=\"data row0 col0\" >asa_before_acl_summary</td>\n",
       "                        <td id=\"T_pybfstylerow0_col1\" class=\"data row0 col1\" >SPLIT-ACL</td>\n",
       "                        <td id=\"T_pybfstylerow0_col2\" class=\"data row0 col2\" >Start Location: asa_before_acl_summary<br>Src IP: 192.0.0.0<br>Src Port: 49152<br>Dst IP: 0.0.0.0<br>Dst Port: 80<br>IP Protocol: TCP</td>\n",
       "                        <td id=\"T_pybfstylerow0_col3\" class=\"data row0 col3\" >DENY</td>\n",
       "                        <td id=\"T_pybfstylerow0_col4\" class=\"data row0 col4\" >no-match</td>\n",
       "                        <td id=\"T_pybfstylerow0_col5\" class=\"data row0 col5\" >AclTrace(events=[AclTraceEvent(class_name=&#x27;org.batfish.datamodel.acl.DefaultDeniedByIpAccessList&#x27;, description=&quot;Flow did not match &#x27;standard ipv4 access-list&#x27; named &#x27;SPLIT-ACL&#x27;&quot;, lineDescription=None)])</td>\n",
       "            </tr>\n",
       "    </tbody></table>"
      ],
      "text/plain": [
       "                     Node Filter_Name  \\\n",
       "0  asa_before_acl_summary  SPLIT-ACL    \n",
       "\n",
       "                                                                        Flow  \\\n",
       "0  start=asa_before_acl_summary [192.0.0.0:49152->0.0.0.0:80 TCP length=512]   \n",
       "\n",
       "  Action Line_Content  \\\n",
       "0  DENY   no-match      \n",
       "\n",
       "                                                              Trace  \n",
       "0  Flow did not match 'standard ipv4 access-list' named 'SPLIT-ACL'  "
      ]
     },
     "metadata": {},
     "output_type": "display_data"
    },
    {
     "data": {
      "text/html": [
       "<style  type=\"text/css\" >\n",
       "    #T_pybfstylerow0_col0 {\n",
       "            text-align:  left;\n",
       "            vertical-align:  top;\n",
       "        }    #T_pybfstylerow0_col1 {\n",
       "            text-align:  left;\n",
       "            vertical-align:  top;\n",
       "        }    #T_pybfstylerow0_col2 {\n",
       "            text-align:  left;\n",
       "            vertical-align:  top;\n",
       "        }    #T_pybfstylerow0_col3 {\n",
       "            text-align:  left;\n",
       "            vertical-align:  top;\n",
       "        }    #T_pybfstylerow0_col4 {\n",
       "            text-align:  left;\n",
       "            vertical-align:  top;\n",
       "        }    #T_pybfstylerow0_col5 {\n",
       "            text-align:  left;\n",
       "            vertical-align:  top;\n",
       "        }</style><table id=\"T_pybfstyle\"  class=\"tex2jax_ignore\"><thead>    <tr>        <th class=\"blank level0\" ></th>        <th class=\"col_heading level0 col0\" >Node</th>        <th class=\"col_heading level0 col1\" >Filter_Name</th>        <th class=\"col_heading level0 col2\" >Flow</th>        <th class=\"col_heading level0 col3\" >Action</th>        <th class=\"col_heading level0 col4\" >Line_Content</th>        <th class=\"col_heading level0 col5\" >Trace</th>    </tr></thead><tbody>\n",
       "                <tr>\n",
       "                        <th id=\"T_pybfstylelevel0_row0\" class=\"row_heading level0 row0\" >0</th>\n",
       "                        <td id=\"T_pybfstylerow0_col0\" class=\"data row0 col0\" >asa_before_acl_summary</td>\n",
       "                        <td id=\"T_pybfstylerow0_col1\" class=\"data row0 col1\" >SPLIT-ACL</td>\n",
       "                        <td id=\"T_pybfstylerow0_col2\" class=\"data row0 col2\" >Start Location: asa_before_acl_summary<br>Src IP: 10.20.0.0<br>Src Port: 49152<br>Dst IP: 0.0.0.0<br>Dst Port: 80<br>IP Protocol: TCP</td>\n",
       "                        <td id=\"T_pybfstylerow0_col3\" class=\"data row0 col3\" >DENY</td>\n",
       "                        <td id=\"T_pybfstylerow0_col4\" class=\"data row0 col4\" >no-match</td>\n",
       "                        <td id=\"T_pybfstylerow0_col5\" class=\"data row0 col5\" >AclTrace(events=[AclTraceEvent(class_name=&#x27;org.batfish.datamodel.acl.DefaultDeniedByIpAccessList&#x27;, description=&quot;Flow did not match &#x27;standard ipv4 access-list&#x27; named &#x27;SPLIT-ACL&#x27;&quot;, lineDescription=None)])</td>\n",
       "            </tr>\n",
       "    </tbody></table>"
      ],
      "text/plain": [
       "                     Node Filter_Name  \\\n",
       "0  asa_before_acl_summary  SPLIT-ACL    \n",
       "\n",
       "                                                                        Flow  \\\n",
       "0  start=asa_before_acl_summary [10.20.0.0:49152->0.0.0.0:80 TCP length=512]   \n",
       "\n",
       "  Action Line_Content  \\\n",
       "0  DENY   no-match      \n",
       "\n",
       "                                                              Trace  \n",
       "0  Flow did not match 'standard ipv4 access-list' named 'SPLIT-ACL'  "
      ]
     },
     "metadata": {},
     "output_type": "display_data"
    }
   ],
   "source": [
    "src_list = ['172.20.0.21/16', '192.168.0.1/8', '10.20.0.21/24']\n",
    "for src in src_list:\n",
    "    ip_flow = HeaderConstraints(srcIps=src,\n",
    "                                              dstIps='0.0.0.0')\n",
    "    answer = bfq.testFilters(headers=ip_flow,\n",
    "                         nodes='asa_before_acl_summary',\n",
    "                         filters=\"SPLIT-ACL\").answer() \n",
    "    show(answer.frame())"
   ]
  },
  {
   "cell_type": "markdown",
   "metadata": {},
   "source": [
    "<h3>以下のセルでサマライズされた後のアクセスリスト のテストを行います。</h3>\n",
    "サマライズ前後で結果が同じかどうか比較してみてください。"
   ]
  },
  {
   "cell_type": "code",
   "execution_count": 5,
   "metadata": {},
   "outputs": [
    {
     "data": {
      "text/html": [
       "<style  type=\"text/css\" >\n",
       "    #T_pybfstylerow0_col0 {\n",
       "            text-align:  left;\n",
       "            vertical-align:  top;\n",
       "        }    #T_pybfstylerow0_col1 {\n",
       "            text-align:  left;\n",
       "            vertical-align:  top;\n",
       "        }    #T_pybfstylerow0_col2 {\n",
       "            text-align:  left;\n",
       "            vertical-align:  top;\n",
       "        }    #T_pybfstylerow0_col3 {\n",
       "            text-align:  left;\n",
       "            vertical-align:  top;\n",
       "        }    #T_pybfstylerow0_col4 {\n",
       "            text-align:  left;\n",
       "            vertical-align:  top;\n",
       "        }    #T_pybfstylerow0_col5 {\n",
       "            text-align:  left;\n",
       "            vertical-align:  top;\n",
       "        }</style><table id=\"T_pybfstyle\"  class=\"tex2jax_ignore\"><thead>    <tr>        <th class=\"blank level0\" ></th>        <th class=\"col_heading level0 col0\" >Node</th>        <th class=\"col_heading level0 col1\" >Filter_Name</th>        <th class=\"col_heading level0 col2\" >Flow</th>        <th class=\"col_heading level0 col3\" >Action</th>        <th class=\"col_heading level0 col4\" >Line_Content</th>        <th class=\"col_heading level0 col5\" >Trace</th>    </tr></thead><tbody>\n",
       "                <tr>\n",
       "                        <th id=\"T_pybfstylelevel0_row0\" class=\"row_heading level0 row0\" >0</th>\n",
       "                        <td id=\"T_pybfstylerow0_col0\" class=\"data row0 col0\" >asa_after_acl_summary</td>\n",
       "                        <td id=\"T_pybfstylerow0_col1\" class=\"data row0 col1\" >SPLIT-ACL</td>\n",
       "                        <td id=\"T_pybfstylerow0_col2\" class=\"data row0 col2\" >Start Location: asa_after_acl_summary<br>Src IP: 172.20.0.0<br>Src Port: 49152<br>Dst IP: 0.0.0.0<br>Dst Port: 53<br>IP Protocol: UDP</td>\n",
       "                        <td id=\"T_pybfstylerow0_col3\" class=\"data row0 col3\" >DENY</td>\n",
       "                        <td id=\"T_pybfstylerow0_col4\" class=\"data row0 col4\" >no-match</td>\n",
       "                        <td id=\"T_pybfstylerow0_col5\" class=\"data row0 col5\" >AclTrace(events=[AclTraceEvent(class_name=&#x27;org.batfish.datamodel.acl.DefaultDeniedByIpAccessList&#x27;, description=&quot;Flow did not match &#x27;standard ipv4 access-list&#x27; named &#x27;SPLIT-ACL&#x27;&quot;, lineDescription=None)])</td>\n",
       "            </tr>\n",
       "    </tbody></table>"
      ],
      "text/plain": [
       "                    Node Filter_Name  \\\n",
       "0  asa_after_acl_summary  SPLIT-ACL    \n",
       "\n",
       "                                                                        Flow  \\\n",
       "0  start=asa_after_acl_summary [172.20.0.0:49152->0.0.0.0:53 UDP length=512]   \n",
       "\n",
       "  Action Line_Content  \\\n",
       "0  DENY   no-match      \n",
       "\n",
       "                                                              Trace  \n",
       "0  Flow did not match 'standard ipv4 access-list' named 'SPLIT-ACL'  "
      ]
     },
     "metadata": {},
     "output_type": "display_data"
    },
    {
     "data": {
      "text/html": [
       "<style  type=\"text/css\" >\n",
       "    #T_pybfstylerow0_col0 {\n",
       "            text-align:  left;\n",
       "            vertical-align:  top;\n",
       "        }    #T_pybfstylerow0_col1 {\n",
       "            text-align:  left;\n",
       "            vertical-align:  top;\n",
       "        }    #T_pybfstylerow0_col2 {\n",
       "            text-align:  left;\n",
       "            vertical-align:  top;\n",
       "        }    #T_pybfstylerow0_col3 {\n",
       "            text-align:  left;\n",
       "            vertical-align:  top;\n",
       "        }    #T_pybfstylerow0_col4 {\n",
       "            text-align:  left;\n",
       "            vertical-align:  top;\n",
       "        }    #T_pybfstylerow0_col5 {\n",
       "            text-align:  left;\n",
       "            vertical-align:  top;\n",
       "        }</style><table id=\"T_pybfstyle\"  class=\"tex2jax_ignore\"><thead>    <tr>        <th class=\"blank level0\" ></th>        <th class=\"col_heading level0 col0\" >Node</th>        <th class=\"col_heading level0 col1\" >Filter_Name</th>        <th class=\"col_heading level0 col2\" >Flow</th>        <th class=\"col_heading level0 col3\" >Action</th>        <th class=\"col_heading level0 col4\" >Line_Content</th>        <th class=\"col_heading level0 col5\" >Trace</th>    </tr></thead><tbody>\n",
       "                <tr>\n",
       "                        <th id=\"T_pybfstylelevel0_row0\" class=\"row_heading level0 row0\" >0</th>\n",
       "                        <td id=\"T_pybfstylerow0_col0\" class=\"data row0 col0\" >asa_after_acl_summary</td>\n",
       "                        <td id=\"T_pybfstylerow0_col1\" class=\"data row0 col1\" >SPLIT-ACL</td>\n",
       "                        <td id=\"T_pybfstylerow0_col2\" class=\"data row0 col2\" >Start Location: asa_after_acl_summary<br>Src IP: 10.0.0.0<br>Src Port: 49152<br>Dst IP: 0.0.0.0<br>Dst Port: 53<br>IP Protocol: UDP</td>\n",
       "                        <td id=\"T_pybfstylerow0_col3\" class=\"data row0 col3\" >DENY</td>\n",
       "                        <td id=\"T_pybfstylerow0_col4\" class=\"data row0 col4\" >no-match</td>\n",
       "                        <td id=\"T_pybfstylerow0_col5\" class=\"data row0 col5\" >AclTrace(events=[AclTraceEvent(class_name=&#x27;org.batfish.datamodel.acl.DefaultDeniedByIpAccessList&#x27;, description=&quot;Flow did not match &#x27;standard ipv4 access-list&#x27; named &#x27;SPLIT-ACL&#x27;&quot;, lineDescription=None)])</td>\n",
       "            </tr>\n",
       "    </tbody></table>"
      ],
      "text/plain": [
       "                    Node Filter_Name  \\\n",
       "0  asa_after_acl_summary  SPLIT-ACL    \n",
       "\n",
       "                                                                      Flow  \\\n",
       "0  start=asa_after_acl_summary [10.0.0.0:49152->0.0.0.0:53 UDP length=512]   \n",
       "\n",
       "  Action Line_Content  \\\n",
       "0  DENY   no-match      \n",
       "\n",
       "                                                              Trace  \n",
       "0  Flow did not match 'standard ipv4 access-list' named 'SPLIT-ACL'  "
      ]
     },
     "metadata": {},
     "output_type": "display_data"
    }
   ],
   "source": [
    "src_list = ['172.20.1.1/16','10.0.0.0/8']\n",
    "for src in src_list:\n",
    "    ip_flow = HeaderConstraints(srcIps=src,\n",
    "                                                  dstIps='0.0.0.0',\n",
    "                                                 applications=['dns'])\n",
    "    answer = bfq.testFilters(headers=ip_flow,\n",
    "                             nodes='asa_after_acl_summary',\n",
    "                             filters=\"SPLIT-ACL\").answer() \n",
    "    show(answer.frame())"
   ]
  },
  {
   "cell_type": "code",
   "execution_count": 6,
   "metadata": {},
   "outputs": [
    {
     "ename": "TextFSMError",
     "evalue": "Error: \"Did not match any rules\". Rule Line: 68. Input Line: access-list cached ACL log flows: total 0, denied 0 (deny-flow-max 4096).",
     "output_type": "error",
     "traceback": [
      "\u001b[0;31m---------------------------------------------------------------------------\u001b[0m",
      "\u001b[0;31mTextFSMError\u001b[0m                              Traceback (most recent call last)",
      "\u001b[0;32m<ipython-input-6-1dcb2868fb24>\u001b[0m in \u001b[0;36m<module>\u001b[0;34m\u001b[0m\n\u001b[1;32m     43\u001b[0m \u001b[0;34m\u001b[0m\u001b[0m\n\u001b[1;32m     44\u001b[0m \u001b[0;34m\u001b[0m\u001b[0m\n\u001b[0;32m---> 45\u001b[0;31m \u001b[0mparsed\u001b[0m \u001b[0;34m=\u001b[0m \u001b[0moutput\u001b[0m\u001b[0;34m(\u001b[0m\u001b[0macl_file\u001b[0m\u001b[0;34m,\u001b[0m \u001b[0mntc_template\u001b[0m\u001b[0;34m)\u001b[0m\u001b[0;34m\u001b[0m\u001b[0m\n\u001b[0m\u001b[1;32m     46\u001b[0m \u001b[0maddress_list\u001b[0m \u001b[0;34m=\u001b[0m \u001b[0mextract_interface\u001b[0m\u001b[0;34m(\u001b[0m\u001b[0mparsed\u001b[0m\u001b[0;34m)\u001b[0m\u001b[0;34m\u001b[0m\u001b[0m\n\u001b[1;32m     47\u001b[0m \u001b[0;34m\u001b[0m\u001b[0m\n",
      "\u001b[0;32m<ipython-input-6-1dcb2868fb24>\u001b[0m in \u001b[0;36moutput\u001b[0;34m(interface, template)\u001b[0m\n\u001b[1;32m     26\u001b[0m         \u001b[0;31m#table = textfsm.TextFSM(f)\u001b[0m\u001b[0;34m\u001b[0m\u001b[0;34m\u001b[0m\u001b[0m\n\u001b[1;32m     27\u001b[0m         \u001b[0mfsm\u001b[0m \u001b[0;34m=\u001b[0m \u001b[0mtextfsm\u001b[0m\u001b[0;34m.\u001b[0m\u001b[0mTextFSM\u001b[0m\u001b[0;34m(\u001b[0m\u001b[0mf\u001b[0m\u001b[0;34m)\u001b[0m\u001b[0;34m\u001b[0m\u001b[0m\n\u001b[0;32m---> 28\u001b[0;31m         \u001b[0mfsm_results\u001b[0m \u001b[0;34m=\u001b[0m \u001b[0mfsm\u001b[0m\u001b[0;34m.\u001b[0m\u001b[0mParseText\u001b[0m\u001b[0;34m(\u001b[0m\u001b[0minventory_text\u001b[0m\u001b[0;34m)\u001b[0m\u001b[0;34m\u001b[0m\u001b[0m\n\u001b[0m\u001b[1;32m     29\u001b[0m         \u001b[0mparsed\u001b[0m \u001b[0;34m=\u001b[0m \u001b[0;34m[\u001b[0m\u001b[0mdict\u001b[0m\u001b[0;34m(\u001b[0m\u001b[0mzip\u001b[0m\u001b[0;34m(\u001b[0m\u001b[0mfsm\u001b[0m\u001b[0;34m.\u001b[0m\u001b[0mheader\u001b[0m\u001b[0;34m,\u001b[0m \u001b[0mrow\u001b[0m\u001b[0;34m)\u001b[0m\u001b[0;34m)\u001b[0m \u001b[0;32mfor\u001b[0m \u001b[0mrow\u001b[0m \u001b[0;32min\u001b[0m \u001b[0mfsm_results\u001b[0m\u001b[0;34m]\u001b[0m\u001b[0;34m\u001b[0m\u001b[0m\n\u001b[1;32m     30\u001b[0m         \u001b[0mf\u001b[0m\u001b[0;34m.\u001b[0m\u001b[0mclose\u001b[0m\u001b[0;34m(\u001b[0m\u001b[0;34m)\u001b[0m\u001b[0;34m\u001b[0m\u001b[0m\n",
      "\u001b[0;32m~/python3/ansible/env/lib/python3.7/site-packages/textfsm.py\u001b[0m in \u001b[0;36mParseText\u001b[0;34m(self, text, eof)\u001b[0m\n\u001b[1;32m    883\u001b[0m \u001b[0;34m\u001b[0m\u001b[0m\n\u001b[1;32m    884\u001b[0m     \u001b[0;32mfor\u001b[0m \u001b[0mline\u001b[0m \u001b[0;32min\u001b[0m \u001b[0mlines\u001b[0m\u001b[0;34m:\u001b[0m\u001b[0;34m\u001b[0m\u001b[0m\n\u001b[0;32m--> 885\u001b[0;31m       \u001b[0mself\u001b[0m\u001b[0;34m.\u001b[0m\u001b[0m_CheckLine\u001b[0m\u001b[0;34m(\u001b[0m\u001b[0mline\u001b[0m\u001b[0;34m)\u001b[0m\u001b[0;34m\u001b[0m\u001b[0m\n\u001b[0m\u001b[1;32m    886\u001b[0m       \u001b[0;32mif\u001b[0m \u001b[0mself\u001b[0m\u001b[0;34m.\u001b[0m\u001b[0m_cur_state_name\u001b[0m \u001b[0;32min\u001b[0m \u001b[0;34m(\u001b[0m\u001b[0;34m'End'\u001b[0m\u001b[0;34m,\u001b[0m \u001b[0;34m'EOF'\u001b[0m\u001b[0;34m)\u001b[0m\u001b[0;34m:\u001b[0m\u001b[0;34m\u001b[0m\u001b[0m\n\u001b[1;32m    887\u001b[0m         \u001b[0;32mbreak\u001b[0m\u001b[0;34m\u001b[0m\u001b[0m\n",
      "\u001b[0;32m~/python3/ansible/env/lib/python3.7/site-packages/textfsm.py\u001b[0m in \u001b[0;36m_CheckLine\u001b[0;34m(self, line)\u001b[0m\n\u001b[1;32m    906\u001b[0m           \u001b[0mself\u001b[0m\u001b[0;34m.\u001b[0m\u001b[0m_AssignVar\u001b[0m\u001b[0;34m(\u001b[0m\u001b[0mmatched\u001b[0m\u001b[0;34m,\u001b[0m \u001b[0mvalue\u001b[0m\u001b[0;34m)\u001b[0m\u001b[0;34m\u001b[0m\u001b[0m\n\u001b[1;32m    907\u001b[0m \u001b[0;34m\u001b[0m\u001b[0m\n\u001b[0;32m--> 908\u001b[0;31m         \u001b[0;32mif\u001b[0m \u001b[0mself\u001b[0m\u001b[0;34m.\u001b[0m\u001b[0m_Operations\u001b[0m\u001b[0;34m(\u001b[0m\u001b[0mrule\u001b[0m\u001b[0;34m,\u001b[0m \u001b[0mline\u001b[0m\u001b[0;34m)\u001b[0m\u001b[0;34m:\u001b[0m\u001b[0;34m\u001b[0m\u001b[0m\n\u001b[0m\u001b[1;32m    909\u001b[0m           \u001b[0;31m# Not a Continue so check for state transition.\u001b[0m\u001b[0;34m\u001b[0m\u001b[0;34m\u001b[0m\u001b[0m\n\u001b[1;32m    910\u001b[0m           \u001b[0;32mif\u001b[0m \u001b[0mrule\u001b[0m\u001b[0;34m.\u001b[0m\u001b[0mnew_state\u001b[0m\u001b[0;34m:\u001b[0m\u001b[0;34m\u001b[0m\u001b[0m\n",
      "\u001b[0;32m~/python3/ansible/env/lib/python3.7/site-packages/textfsm.py\u001b[0m in \u001b[0;36m_Operations\u001b[0;34m(self, rule, line)\u001b[0m\n\u001b[1;32m    984\u001b[0m       \u001b[0;32mif\u001b[0m \u001b[0mrule\u001b[0m\u001b[0;34m.\u001b[0m\u001b[0mnew_state\u001b[0m\u001b[0;34m:\u001b[0m\u001b[0;34m\u001b[0m\u001b[0m\n\u001b[1;32m    985\u001b[0m         raise TextFSMError('Error: %s. Rule Line: %s. Input Line: %s.'\n\u001b[0;32m--> 986\u001b[0;31m                            % (rule.new_state, rule.line_num, line))\n\u001b[0m\u001b[1;32m    987\u001b[0m \u001b[0;34m\u001b[0m\u001b[0m\n\u001b[1;32m    988\u001b[0m       raise TextFSMError('State Error raised. Rule Line: %s. Input Line: %s'\n",
      "\u001b[0;31mTextFSMError\u001b[0m: Error: \"Did not match any rules\". Rule Line: 68. Input Line: access-list cached ACL log flows: total 0, denied 0 (deny-flow-max 4096)."
     ]
    }
   ],
   "source": [
    "import os\n",
    "import sys\n",
    "import re\n",
    "#textfsmのパスをnotebookに渡す\n",
    "sys.path.append('/Users/lisago/python/ansible/venv/lib/python3.7/site-packages')\n",
    "\n",
    "import textfsm\n",
    "\n",
    "acl_file = 'networks/example-filters/mycandidate/config/ASA_show_access_list.cfg'\n",
    "ntc_template = 'ntc-templates/cisco_asa_show_access-list.template'\n",
    "#acl_file = 'networks/example-filters/mycandidate/config/nxos_acl_sample.cfg'\n",
    "#ntc_template = 'ntc-templates/cisco_nxos_show_access-lists.template'\n",
    "#interface_config_file = 'networks/example-filters/mycandidate/config/cisco_ios_show_ip_interfaces.cfg'\n",
    "#ntc_template = 'ntc-templates/cisco_ios_show_ip_interfaces.template'\n",
    "\n",
    "'''\n",
    "[{'INTF': 'Serial0', 'LINK_STATUS': 'down', 'PROTOCOL_STATUS': 'down', 'IPADDR': ['192.168.1.1/24*'],\n",
    "'MASK': ['1'], 'VRF': '', 'MTU': '1500', 'IP_HELPER': [], 'OUTGOING_ACL': '', 'INBOUND_ACL': ''}]\n",
    "'''\n",
    "\n",
    "def output(interface, template):\n",
    "    with open(interface, 'r') as f:\n",
    "        inventory_text = f.read()\n",
    "    \n",
    "    with open(ntc_template) as f:\n",
    "        #table = textfsm.TextFSM(f)\n",
    "        fsm = textfsm.TextFSM(f)\n",
    "        fsm_results = fsm.ParseText(inventory_text)\n",
    "        parsed = [dict(zip(fsm.header, row)) for row in fsm_results]\n",
    "        f.close()\n",
    "    return parsed\n",
    "\n",
    "def extract_interface(parsed):\n",
    "    address_list = []\n",
    "    for con in parsed:\n",
    "        ipaddress = con['IPADDR']\n",
    "        for add in ipaddress:\n",
    "            #address.strip('*')\n",
    "            address = re.sub(r'\\*', ' ', add)\n",
    "            address_list.append(address)\n",
    "            \n",
    "    return address_list\n",
    "    \n",
    "\n",
    "parsed = output(acl_file, ntc_template)\n",
    "address_list = extract_interface(parsed)\n",
    "\n",
    "for address in address_list:\n",
    "    ip_flow = HeaderConstraints(srcIps=address)\n",
    "                             #dstIps='255.255.255.0')\n",
    "    answer = bfq.testFilters(headers=ip_flow,\n",
    "                             nodes='before_summary_asa',\n",
    "                             filters=\"SPLIT-ACL\").answer() \n",
    "    show(answer.frame())"
   ]
  },
  {
   "cell_type": "code",
   "execution_count": null,
   "metadata": {},
   "outputs": [],
   "source": []
  }
 ],
 "metadata": {
  "kernelspec": {
   "display_name": "Python 3",
   "language": "python",
   "name": "python3"
  },
  "language_info": {
   "codemirror_mode": {
    "name": "ipython",
    "version": 3
   },
   "file_extension": ".py",
   "mimetype": "text/x-python",
   "name": "python",
   "nbconvert_exporter": "python",
   "pygments_lexer": "ipython3",
   "version": "3.7.0"
  }
 },
 "nbformat": 4,
 "nbformat_minor": 2
}
